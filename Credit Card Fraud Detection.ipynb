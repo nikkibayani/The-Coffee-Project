{
 "cells": [
  {
   "cell_type": "markdown",
   "id": "c277571d",
   "metadata": {},
   "source": [
    "# Credit Card Fraud Detection\n",
    "### Ell June Abucay, Veronica Bayani\n",
    "\n",
    "Source: https://www.kaggle.com/datasets/mlg-ulb/creditcardfraud\n",
    "\n",
    "Context\n",
    "It is important that credit card companies are able to recognize fraudulent credit card transactions so that customers are not charged for items that they did not purchase.\n",
    "\n",
    "Content\n",
    "The dataset contains transactions made by credit cards in September 2013 by European cardholders.\n",
    "This dataset presents transactions that occurred in two days, where we have 492 frauds out of 284,807 transactions. The dataset is highly unbalanced, the positive class (frauds) account for 0.172% of all transactions.\n"
   ]
  },
  {
   "cell_type": "markdown",
   "id": "087cbb27",
   "metadata": {},
   "source": [
    "# Libraries"
   ]
  },
  {
   "cell_type": "code",
   "execution_count": 1,
   "id": "1e00686c",
   "metadata": {},
   "outputs": [
    {
     "name": "stdout",
     "output_type": "stream",
     "text": [
      "Requirement already satisfied: outlier_utils in c:\\users\\veron\\anaconda3\\lib\\site-packages (0.0.3)\n",
      "Requirement already satisfied: imbalanced-learn in c:\\users\\veron\\anaconda3\\lib\\site-packages (0.10.1)\n",
      "Requirement already satisfied: scikit-learn>=1.0.2 in c:\\users\\veron\\anaconda3\\lib\\site-packages (from imbalanced-learn) (1.0.2)\n",
      "Requirement already satisfied: joblib>=1.1.1 in c:\\users\\veron\\anaconda3\\lib\\site-packages (from imbalanced-learn) (1.2.0)\n",
      "Requirement already satisfied: threadpoolctl>=2.0.0 in c:\\users\\veron\\anaconda3\\lib\\site-packages (from imbalanced-learn) (2.2.0)\n",
      "Requirement already satisfied: scipy>=1.3.2 in c:\\users\\veron\\anaconda3\\lib\\site-packages (from imbalanced-learn) (1.9.1)\n",
      "Requirement already satisfied: numpy>=1.17.3 in c:\\users\\veron\\anaconda3\\lib\\site-packages (from imbalanced-learn) (1.21.5)\n"
     ]
    }
   ],
   "source": [
    "#installing a new library\n",
    "#!pip install outlier_utils\n",
    "#!pip install imbalanced-learn "
   ]
  },
  {
   "cell_type": "code",
   "execution_count": 3,
   "id": "6f0cf3c3",
   "metadata": {},
   "outputs": [],
   "source": [
    "# allows us to ignore warnings, since they are just warnings \n",
    "import warnings\n",
    "warnings.filterwarnings('ignore')\n",
    "\n",
    "# allows us to print things in jupyter in a pretty way\n",
    "from IPython.display import Markdown, display\n",
    "def printmd(string):\n",
    "    display(Markdown(string))\n",
    "\n",
    "# import pandas to be able to use dataframes\n",
    "import pandas as pd\n",
    "pd.set_option('display.float_format', lambda x: '%.6f' % x)\n",
    "\n",
    "# import plotting library\n",
    "import matplotlib.pyplot as plt\n",
    "import matplotlib.cm as cm\n",
    "\n",
    "# allow inline plotting on notebook cells\n",
    "%matplotlib inline\n",
    "plt.switch_backend('agg')\n",
    "\n",
    "# we'll get access to the numpy library\n",
    "import numpy as np\n",
    "\n",
    "# We'll use a label encoder to convert categorical feature to numerical values\n",
    "from sklearn.preprocessing import LabelEncoder\n",
    "\n",
    "# install using: pip install outlier_utils\n",
    "# univariate anomaly detection\n",
    "from outliers import smirnov_grubbs as grubbs\n",
    "\n",
    "# Access to the localoutlierfactor for clustering\n",
    "from sklearn.neighbors import LocalOutlierFactor\n",
    "\n",
    "# allows us to implement a train test split strategy\n",
    "from sklearn.model_selection import train_test_split\n",
    "\n",
    "# access to the logistic regression class of Sklearn\n",
    "from sklearn.linear_model import LogisticRegression\n",
    "\n",
    "# access to the neural network model MLP Classifier\n",
    "from sklearn.neural_network import MLPClassifier\n",
    "\n",
    "# classification metrics\n",
    "from sklearn.metrics import accuracy_score\n",
    "from sklearn.metrics import confusion_matrix\n",
    "from sklearn.metrics import precision_score\n",
    "from sklearn.metrics import recall_score\n",
    "from sklearn.metrics import auc\n",
    "from sklearn.metrics import RocCurveDisplay\n",
    "from sklearn.metrics import roc_curve\n",
    "from sklearn.metrics import roc_auc_score\n",
    "\n",
    "# for use with CAP report\n",
    "from scipy import integrate\n",
    "\n",
    "# feature power transformation functions\n",
    "from scipy.stats import boxcox\n",
    "from scipy.special import boxcox1p\n",
    "\n",
    "# normality tests\n",
    "from scipy.stats import shapiro\n",
    "from scipy.stats import normaltest\n",
    "from scipy.stats import probplot\n",
    "\n",
    "# pip install imbalanced-learn (open anaconda prompt as admin)\n",
    "# sudo pip install imbalanced-learn (macos/linux)\n",
    "# pip install delayed (only do this if required)\n",
    "# This module is used for handling imbalanced data\n",
    "from imblearn.over_sampling import SMOTE\n",
    "\n",
    "# Collections is a core python module. We wille use counter only for reporting\n",
    "from collections import Counter"
   ]
  },
  {
   "cell_type": "code",
   "execution_count": 2,
   "id": "9805ad25",
   "metadata": {},
   "outputs": [],
   "source": [
    "# allows us to ignore warnings, since they are just warnings \n",
    "import warnings\n",
    "warnings.filterwarnings('ignore')\n",
    "\n",
    "# allows us to print things in jupyter in a pretty way\n",
    "from IPython.display import Markdown, display\n",
    "def printmd(string):\n",
    "    display(Markdown(string))\n",
    "\n",
    "# import pandas to be able to use dataframes\n",
    "import pandas as pd\n",
    "pd.set_option('display.float_format', lambda x: '%.6f' % x)\n",
    "\n",
    "# import plotting library\n",
    "import matplotlib.pyplot as plt\n",
    "import matplotlib.cm as cm\n",
    "\n",
    "# allow inline plotting on notebook cells\n",
    "%matplotlib inline\n",
    "\n",
    "# we'll get access to the numpy library\n",
    "import numpy as np\n",
    "\n",
    "# We'll use a label encoder to convert categorical feature to numerical values\n",
    "from sklearn.preprocessing import LabelEncoder\n",
    "\n",
    "# install using: pip install outlier_utils\n",
    "# univariate anomaly detection\n",
    "from outliers import smirnov_grubbs as grubbs\n",
    "\n",
    "# Access to the localoutlierfactor for clustering\n",
    "from sklearn.neighbors import LocalOutlierFactor\n",
    "\n",
    "# allows us to implement a train test split strategy\n",
    "from sklearn.model_selection import train_test_split\n",
    "\n",
    "# access to the logistic regression class of Sklearn\n",
    "from sklearn.linear_model import LogisticRegression\n",
    "\n",
    "# access to the neural network model MLP Classifier\n",
    "from sklearn.neural_network import MLPClassifier\n",
    "\n",
    "# classification metrics\n",
    "from sklearn.metrics import accuracy_score\n",
    "from sklearn.metrics import confusion_matrix\n",
    "from sklearn.metrics import precision_score\n",
    "from sklearn.metrics import recall_score\n",
    "from sklearn.metrics import auc\n",
    "from sklearn.metrics import RocCurveDisplay\n",
    "from sklearn.metrics import roc_curve\n",
    "from sklearn.metrics import roc_auc_score\n",
    "\n",
    "# feature power transformation functions\n",
    "from scipy.stats import boxcox\n",
    "from scipy.special import boxcox1p\n",
    "\n",
    "# normality tests\n",
    "from scipy.stats import shapiro\n",
    "from scipy.stats import normaltest\n",
    "from scipy.stats import probplot"
   ]
  },
  {
   "cell_type": "markdown",
   "id": "1c0e0b9f",
   "metadata": {},
   "source": [
    "# Exploration"
   ]
  },
  {
   "cell_type": "code",
   "execution_count": 4,
   "id": "00149c9e",
   "metadata": {},
   "outputs": [],
   "source": [
    "#Importing the dataset from https://www.kaggle.com/datasets/mlg-ulb/creditcardfraud\n",
    "data_df = pd.read_csv('creditcard.csv')"
   ]
  },
  {
   "cell_type": "code",
   "execution_count": 5,
   "id": "8d7f70eb",
   "metadata": {},
   "outputs": [
    {
     "data": {
      "text/plain": [
       "(284807, 31)"
      ]
     },
     "execution_count": 5,
     "metadata": {},
     "output_type": "execute_result"
    }
   ],
   "source": [
    "data_df.shape"
   ]
  },
  {
   "cell_type": "code",
   "execution_count": 6,
   "id": "bce9c8b4",
   "metadata": {},
   "outputs": [
    {
     "data": {
      "text/html": [
       "<div>\n",
       "<style scoped>\n",
       "    .dataframe tbody tr th:only-of-type {\n",
       "        vertical-align: middle;\n",
       "    }\n",
       "\n",
       "    .dataframe tbody tr th {\n",
       "        vertical-align: top;\n",
       "    }\n",
       "\n",
       "    .dataframe thead th {\n",
       "        text-align: right;\n",
       "    }\n",
       "</style>\n",
       "<table border=\"1\" class=\"dataframe\">\n",
       "  <thead>\n",
       "    <tr style=\"text-align: right;\">\n",
       "      <th></th>\n",
       "      <th>Time</th>\n",
       "      <th>V1</th>\n",
       "      <th>V2</th>\n",
       "      <th>V3</th>\n",
       "      <th>V4</th>\n",
       "      <th>V5</th>\n",
       "      <th>V6</th>\n",
       "      <th>V7</th>\n",
       "      <th>V8</th>\n",
       "      <th>V9</th>\n",
       "      <th>...</th>\n",
       "      <th>V21</th>\n",
       "      <th>V22</th>\n",
       "      <th>V23</th>\n",
       "      <th>V24</th>\n",
       "      <th>V25</th>\n",
       "      <th>V26</th>\n",
       "      <th>V27</th>\n",
       "      <th>V28</th>\n",
       "      <th>Amount</th>\n",
       "      <th>Class</th>\n",
       "    </tr>\n",
       "  </thead>\n",
       "  <tbody>\n",
       "    <tr>\n",
       "      <th>0</th>\n",
       "      <td>0.000000</td>\n",
       "      <td>-1.359807</td>\n",
       "      <td>-0.072781</td>\n",
       "      <td>2.536347</td>\n",
       "      <td>1.378155</td>\n",
       "      <td>-0.338321</td>\n",
       "      <td>0.462388</td>\n",
       "      <td>0.239599</td>\n",
       "      <td>0.098698</td>\n",
       "      <td>0.363787</td>\n",
       "      <td>...</td>\n",
       "      <td>-0.018307</td>\n",
       "      <td>0.277838</td>\n",
       "      <td>-0.110474</td>\n",
       "      <td>0.066928</td>\n",
       "      <td>0.128539</td>\n",
       "      <td>-0.189115</td>\n",
       "      <td>0.133558</td>\n",
       "      <td>-0.021053</td>\n",
       "      <td>149.620000</td>\n",
       "      <td>0</td>\n",
       "    </tr>\n",
       "    <tr>\n",
       "      <th>1</th>\n",
       "      <td>0.000000</td>\n",
       "      <td>1.191857</td>\n",
       "      <td>0.266151</td>\n",
       "      <td>0.166480</td>\n",
       "      <td>0.448154</td>\n",
       "      <td>0.060018</td>\n",
       "      <td>-0.082361</td>\n",
       "      <td>-0.078803</td>\n",
       "      <td>0.085102</td>\n",
       "      <td>-0.255425</td>\n",
       "      <td>...</td>\n",
       "      <td>-0.225775</td>\n",
       "      <td>-0.638672</td>\n",
       "      <td>0.101288</td>\n",
       "      <td>-0.339846</td>\n",
       "      <td>0.167170</td>\n",
       "      <td>0.125895</td>\n",
       "      <td>-0.008983</td>\n",
       "      <td>0.014724</td>\n",
       "      <td>2.690000</td>\n",
       "      <td>0</td>\n",
       "    </tr>\n",
       "    <tr>\n",
       "      <th>2</th>\n",
       "      <td>1.000000</td>\n",
       "      <td>-1.358354</td>\n",
       "      <td>-1.340163</td>\n",
       "      <td>1.773209</td>\n",
       "      <td>0.379780</td>\n",
       "      <td>-0.503198</td>\n",
       "      <td>1.800499</td>\n",
       "      <td>0.791461</td>\n",
       "      <td>0.247676</td>\n",
       "      <td>-1.514654</td>\n",
       "      <td>...</td>\n",
       "      <td>0.247998</td>\n",
       "      <td>0.771679</td>\n",
       "      <td>0.909412</td>\n",
       "      <td>-0.689281</td>\n",
       "      <td>-0.327642</td>\n",
       "      <td>-0.139097</td>\n",
       "      <td>-0.055353</td>\n",
       "      <td>-0.059752</td>\n",
       "      <td>378.660000</td>\n",
       "      <td>0</td>\n",
       "    </tr>\n",
       "    <tr>\n",
       "      <th>3</th>\n",
       "      <td>1.000000</td>\n",
       "      <td>-0.966272</td>\n",
       "      <td>-0.185226</td>\n",
       "      <td>1.792993</td>\n",
       "      <td>-0.863291</td>\n",
       "      <td>-0.010309</td>\n",
       "      <td>1.247203</td>\n",
       "      <td>0.237609</td>\n",
       "      <td>0.377436</td>\n",
       "      <td>-1.387024</td>\n",
       "      <td>...</td>\n",
       "      <td>-0.108300</td>\n",
       "      <td>0.005274</td>\n",
       "      <td>-0.190321</td>\n",
       "      <td>-1.175575</td>\n",
       "      <td>0.647376</td>\n",
       "      <td>-0.221929</td>\n",
       "      <td>0.062723</td>\n",
       "      <td>0.061458</td>\n",
       "      <td>123.500000</td>\n",
       "      <td>0</td>\n",
       "    </tr>\n",
       "    <tr>\n",
       "      <th>4</th>\n",
       "      <td>2.000000</td>\n",
       "      <td>-1.158233</td>\n",
       "      <td>0.877737</td>\n",
       "      <td>1.548718</td>\n",
       "      <td>0.403034</td>\n",
       "      <td>-0.407193</td>\n",
       "      <td>0.095921</td>\n",
       "      <td>0.592941</td>\n",
       "      <td>-0.270533</td>\n",
       "      <td>0.817739</td>\n",
       "      <td>...</td>\n",
       "      <td>-0.009431</td>\n",
       "      <td>0.798278</td>\n",
       "      <td>-0.137458</td>\n",
       "      <td>0.141267</td>\n",
       "      <td>-0.206010</td>\n",
       "      <td>0.502292</td>\n",
       "      <td>0.219422</td>\n",
       "      <td>0.215153</td>\n",
       "      <td>69.990000</td>\n",
       "      <td>0</td>\n",
       "    </tr>\n",
       "  </tbody>\n",
       "</table>\n",
       "<p>5 rows × 31 columns</p>\n",
       "</div>"
      ],
      "text/plain": [
       "      Time        V1        V2       V3        V4        V5        V6  \\\n",
       "0 0.000000 -1.359807 -0.072781 2.536347  1.378155 -0.338321  0.462388   \n",
       "1 0.000000  1.191857  0.266151 0.166480  0.448154  0.060018 -0.082361   \n",
       "2 1.000000 -1.358354 -1.340163 1.773209  0.379780 -0.503198  1.800499   \n",
       "3 1.000000 -0.966272 -0.185226 1.792993 -0.863291 -0.010309  1.247203   \n",
       "4 2.000000 -1.158233  0.877737 1.548718  0.403034 -0.407193  0.095921   \n",
       "\n",
       "         V7        V8        V9  ...       V21       V22       V23       V24  \\\n",
       "0  0.239599  0.098698  0.363787  ... -0.018307  0.277838 -0.110474  0.066928   \n",
       "1 -0.078803  0.085102 -0.255425  ... -0.225775 -0.638672  0.101288 -0.339846   \n",
       "2  0.791461  0.247676 -1.514654  ...  0.247998  0.771679  0.909412 -0.689281   \n",
       "3  0.237609  0.377436 -1.387024  ... -0.108300  0.005274 -0.190321 -1.175575   \n",
       "4  0.592941 -0.270533  0.817739  ... -0.009431  0.798278 -0.137458  0.141267   \n",
       "\n",
       "        V25       V26       V27       V28     Amount  Class  \n",
       "0  0.128539 -0.189115  0.133558 -0.021053 149.620000      0  \n",
       "1  0.167170  0.125895 -0.008983  0.014724   2.690000      0  \n",
       "2 -0.327642 -0.139097 -0.055353 -0.059752 378.660000      0  \n",
       "3  0.647376 -0.221929  0.062723  0.061458 123.500000      0  \n",
       "4 -0.206010  0.502292  0.219422  0.215153  69.990000      0  \n",
       "\n",
       "[5 rows x 31 columns]"
      ]
     },
     "execution_count": 6,
     "metadata": {},
     "output_type": "execute_result"
    }
   ],
   "source": [
    "data_df.head()"
   ]
  },
  {
   "cell_type": "markdown",
   "id": "7d39db7d",
   "metadata": {},
   "source": [
    "The definitions of the columns are as follows:\n",
    "- Time - contains the seconds elapsed between each transaction and the first transaction in the dataset\n",
    "- V1 to V28 - principal components obtained with PCA\n",
    "- Amount - transaction amount\n",
    "- Class - response variable and it takes value 1 in case of fraud and 0 otherwise"
   ]
  },
  {
   "cell_type": "code",
   "execution_count": 7,
   "id": "86458164",
   "metadata": {},
   "outputs": [
    {
     "data": {
      "text/html": [
       "<div>\n",
       "<style scoped>\n",
       "    .dataframe tbody tr th:only-of-type {\n",
       "        vertical-align: middle;\n",
       "    }\n",
       "\n",
       "    .dataframe tbody tr th {\n",
       "        vertical-align: top;\n",
       "    }\n",
       "\n",
       "    .dataframe thead th {\n",
       "        text-align: right;\n",
       "    }\n",
       "</style>\n",
       "<table border=\"1\" class=\"dataframe\">\n",
       "  <thead>\n",
       "    <tr style=\"text-align: right;\">\n",
       "      <th></th>\n",
       "      <th>sample</th>\n",
       "      <th>dtypes</th>\n",
       "    </tr>\n",
       "  </thead>\n",
       "  <tbody>\n",
       "    <tr>\n",
       "      <th>Time</th>\n",
       "      <td>0.000000</td>\n",
       "      <td>float64</td>\n",
       "    </tr>\n",
       "    <tr>\n",
       "      <th>V1</th>\n",
       "      <td>-1.359807</td>\n",
       "      <td>float64</td>\n",
       "    </tr>\n",
       "    <tr>\n",
       "      <th>V2</th>\n",
       "      <td>-0.072781</td>\n",
       "      <td>float64</td>\n",
       "    </tr>\n",
       "    <tr>\n",
       "      <th>V3</th>\n",
       "      <td>2.536347</td>\n",
       "      <td>float64</td>\n",
       "    </tr>\n",
       "    <tr>\n",
       "      <th>V4</th>\n",
       "      <td>1.378155</td>\n",
       "      <td>float64</td>\n",
       "    </tr>\n",
       "    <tr>\n",
       "      <th>V5</th>\n",
       "      <td>-0.338321</td>\n",
       "      <td>float64</td>\n",
       "    </tr>\n",
       "    <tr>\n",
       "      <th>V6</th>\n",
       "      <td>0.462388</td>\n",
       "      <td>float64</td>\n",
       "    </tr>\n",
       "    <tr>\n",
       "      <th>V7</th>\n",
       "      <td>0.239599</td>\n",
       "      <td>float64</td>\n",
       "    </tr>\n",
       "    <tr>\n",
       "      <th>V8</th>\n",
       "      <td>0.098698</td>\n",
       "      <td>float64</td>\n",
       "    </tr>\n",
       "    <tr>\n",
       "      <th>V9</th>\n",
       "      <td>0.363787</td>\n",
       "      <td>float64</td>\n",
       "    </tr>\n",
       "    <tr>\n",
       "      <th>V10</th>\n",
       "      <td>0.090794</td>\n",
       "      <td>float64</td>\n",
       "    </tr>\n",
       "    <tr>\n",
       "      <th>V11</th>\n",
       "      <td>-0.551600</td>\n",
       "      <td>float64</td>\n",
       "    </tr>\n",
       "    <tr>\n",
       "      <th>V12</th>\n",
       "      <td>-0.617801</td>\n",
       "      <td>float64</td>\n",
       "    </tr>\n",
       "    <tr>\n",
       "      <th>V13</th>\n",
       "      <td>-0.991390</td>\n",
       "      <td>float64</td>\n",
       "    </tr>\n",
       "    <tr>\n",
       "      <th>V14</th>\n",
       "      <td>-0.311169</td>\n",
       "      <td>float64</td>\n",
       "    </tr>\n",
       "    <tr>\n",
       "      <th>V15</th>\n",
       "      <td>1.468177</td>\n",
       "      <td>float64</td>\n",
       "    </tr>\n",
       "    <tr>\n",
       "      <th>V16</th>\n",
       "      <td>-0.470401</td>\n",
       "      <td>float64</td>\n",
       "    </tr>\n",
       "    <tr>\n",
       "      <th>V17</th>\n",
       "      <td>0.207971</td>\n",
       "      <td>float64</td>\n",
       "    </tr>\n",
       "    <tr>\n",
       "      <th>V18</th>\n",
       "      <td>0.025791</td>\n",
       "      <td>float64</td>\n",
       "    </tr>\n",
       "    <tr>\n",
       "      <th>V19</th>\n",
       "      <td>0.403993</td>\n",
       "      <td>float64</td>\n",
       "    </tr>\n",
       "    <tr>\n",
       "      <th>V20</th>\n",
       "      <td>0.251412</td>\n",
       "      <td>float64</td>\n",
       "    </tr>\n",
       "    <tr>\n",
       "      <th>V21</th>\n",
       "      <td>-0.018307</td>\n",
       "      <td>float64</td>\n",
       "    </tr>\n",
       "    <tr>\n",
       "      <th>V22</th>\n",
       "      <td>0.277838</td>\n",
       "      <td>float64</td>\n",
       "    </tr>\n",
       "    <tr>\n",
       "      <th>V23</th>\n",
       "      <td>-0.110474</td>\n",
       "      <td>float64</td>\n",
       "    </tr>\n",
       "    <tr>\n",
       "      <th>V24</th>\n",
       "      <td>0.066928</td>\n",
       "      <td>float64</td>\n",
       "    </tr>\n",
       "    <tr>\n",
       "      <th>V25</th>\n",
       "      <td>0.128539</td>\n",
       "      <td>float64</td>\n",
       "    </tr>\n",
       "    <tr>\n",
       "      <th>V26</th>\n",
       "      <td>-0.189115</td>\n",
       "      <td>float64</td>\n",
       "    </tr>\n",
       "    <tr>\n",
       "      <th>V27</th>\n",
       "      <td>0.133558</td>\n",
       "      <td>float64</td>\n",
       "    </tr>\n",
       "    <tr>\n",
       "      <th>V28</th>\n",
       "      <td>-0.021053</td>\n",
       "      <td>float64</td>\n",
       "    </tr>\n",
       "    <tr>\n",
       "      <th>Amount</th>\n",
       "      <td>149.620000</td>\n",
       "      <td>float64</td>\n",
       "    </tr>\n",
       "    <tr>\n",
       "      <th>Class</th>\n",
       "      <td>0.000000</td>\n",
       "      <td>int64</td>\n",
       "    </tr>\n",
       "  </tbody>\n",
       "</table>\n",
       "</div>"
      ],
      "text/plain": [
       "           sample   dtypes\n",
       "Time     0.000000  float64\n",
       "V1      -1.359807  float64\n",
       "V2      -0.072781  float64\n",
       "V3       2.536347  float64\n",
       "V4       1.378155  float64\n",
       "V5      -0.338321  float64\n",
       "V6       0.462388  float64\n",
       "V7       0.239599  float64\n",
       "V8       0.098698  float64\n",
       "V9       0.363787  float64\n",
       "V10      0.090794  float64\n",
       "V11     -0.551600  float64\n",
       "V12     -0.617801  float64\n",
       "V13     -0.991390  float64\n",
       "V14     -0.311169  float64\n",
       "V15      1.468177  float64\n",
       "V16     -0.470401  float64\n",
       "V17      0.207971  float64\n",
       "V18      0.025791  float64\n",
       "V19      0.403993  float64\n",
       "V20      0.251412  float64\n",
       "V21     -0.018307  float64\n",
       "V22      0.277838  float64\n",
       "V23     -0.110474  float64\n",
       "V24      0.066928  float64\n",
       "V25      0.128539  float64\n",
       "V26     -0.189115  float64\n",
       "V27      0.133558  float64\n",
       "V28     -0.021053  float64\n",
       "Amount 149.620000  float64\n",
       "Class    0.000000    int64"
      ]
     },
     "execution_count": 7,
     "metadata": {},
     "output_type": "execute_result"
    }
   ],
   "source": [
    "# Let's have a quick view of the dataset\n",
    "tmp_df = data_df.head(1).T\n",
    "tmp_df.columns = ['sample']\n",
    "tmp_df['dtypes'] = data_df.dtypes\n",
    "tmp_df"
   ]
  },
  {
   "cell_type": "code",
   "execution_count": 8,
   "id": "d32a053f",
   "metadata": {},
   "outputs": [
    {
     "data": {
      "text/plain": [
       "False"
      ]
     },
     "execution_count": 8,
     "metadata": {},
     "output_type": "execute_result"
    }
   ],
   "source": [
    "# Do we have rows that have any null values?\n",
    "data_df.isnull().values.any()"
   ]
  },
  {
   "cell_type": "markdown",
   "id": "88481288",
   "metadata": {},
   "source": [
    "There are no rows with null values."
   ]
  },
  {
   "cell_type": "code",
   "execution_count": 9,
   "id": "1e28c260",
   "metadata": {
    "scrolled": true
   },
   "outputs": [],
   "source": [
    "col = 'Class'\n",
    "series = data_df[col]\n",
    "tmp_df = pd.DataFrame(series.value_counts())\n",
    "tmp_df = tmp_df.T\n",
    "\n",
    "\n",
    "tmp_df.plot.bar(title=col,cmap=\"viridis\")\n",
    "plt.gcf().axes[0].yaxis.get_major_formatter().set_scientific(False)\n",
    "plt.show()"
   ]
  },
  {
   "cell_type": "code",
   "execution_count": 10,
   "id": "295a1b8f",
   "metadata": {},
   "outputs": [
    {
     "data": {
      "text/html": [
       "<div>\n",
       "<style scoped>\n",
       "    .dataframe tbody tr th:only-of-type {\n",
       "        vertical-align: middle;\n",
       "    }\n",
       "\n",
       "    .dataframe tbody tr th {\n",
       "        vertical-align: top;\n",
       "    }\n",
       "\n",
       "    .dataframe thead th {\n",
       "        text-align: right;\n",
       "    }\n",
       "</style>\n",
       "<table border=\"1\" class=\"dataframe\">\n",
       "  <thead>\n",
       "    <tr style=\"text-align: right;\">\n",
       "      <th></th>\n",
       "      <th>0</th>\n",
       "      <th>1</th>\n",
       "    </tr>\n",
       "  </thead>\n",
       "  <tbody>\n",
       "    <tr>\n",
       "      <th>Class</th>\n",
       "      <td>284315</td>\n",
       "      <td>492</td>\n",
       "    </tr>\n",
       "  </tbody>\n",
       "</table>\n",
       "</div>"
      ],
      "text/plain": [
       "            0    1\n",
       "Class  284315  492"
      ]
     },
     "metadata": {},
     "output_type": "display_data"
    }
   ],
   "source": [
    "# There is a large imbalance between the two classes\n",
    "display(tmp_df)"
   ]
  },
  {
   "cell_type": "markdown",
   "id": "175865f2",
   "metadata": {},
   "source": [
    "Out of the 284807 entries in the dataset, only 492 or 0.17% of the data set is tagged as fraudulent."
   ]
  },
  {
   "cell_type": "markdown",
   "id": "c67633d8",
   "metadata": {},
   "source": [
    "### Checking the Non-Fraud Data"
   ]
  },
  {
   "cell_type": "code",
   "execution_count": 10,
   "id": "28485cbc",
   "metadata": {},
   "outputs": [
    {
     "data": {
      "text/html": [
       "<div>\n",
       "<style scoped>\n",
       "    .dataframe tbody tr th:only-of-type {\n",
       "        vertical-align: middle;\n",
       "    }\n",
       "\n",
       "    .dataframe tbody tr th {\n",
       "        vertical-align: top;\n",
       "    }\n",
       "\n",
       "    .dataframe thead th {\n",
       "        text-align: right;\n",
       "    }\n",
       "</style>\n",
       "<table border=\"1\" class=\"dataframe\">\n",
       "  <thead>\n",
       "    <tr style=\"text-align: right;\">\n",
       "      <th></th>\n",
       "      <th>Amount</th>\n",
       "    </tr>\n",
       "  </thead>\n",
       "  <tbody>\n",
       "    <tr>\n",
       "      <th>count</th>\n",
       "      <td>284315.000000</td>\n",
       "    </tr>\n",
       "    <tr>\n",
       "      <th>mean</th>\n",
       "      <td>88.291022</td>\n",
       "    </tr>\n",
       "    <tr>\n",
       "      <th>std</th>\n",
       "      <td>250.105092</td>\n",
       "    </tr>\n",
       "    <tr>\n",
       "      <th>min</th>\n",
       "      <td>0.000000</td>\n",
       "    </tr>\n",
       "    <tr>\n",
       "      <th>25%</th>\n",
       "      <td>5.650000</td>\n",
       "    </tr>\n",
       "    <tr>\n",
       "      <th>50%</th>\n",
       "      <td>22.000000</td>\n",
       "    </tr>\n",
       "    <tr>\n",
       "      <th>75%</th>\n",
       "      <td>77.050000</td>\n",
       "    </tr>\n",
       "    <tr>\n",
       "      <th>max</th>\n",
       "      <td>25691.160000</td>\n",
       "    </tr>\n",
       "  </tbody>\n",
       "</table>\n",
       "</div>"
      ],
      "text/plain": [
       "             Amount\n",
       "count 284315.000000\n",
       "mean      88.291022\n",
       "std      250.105092\n",
       "min        0.000000\n",
       "25%        5.650000\n",
       "50%       22.000000\n",
       "75%       77.050000\n",
       "max    25691.160000"
      ]
     },
     "execution_count": 10,
     "metadata": {},
     "output_type": "execute_result"
    }
   ],
   "source": [
    "#Getting the details for the non-fraud data (class =0)\n",
    "tmp_df0=data_df[data_df['Class']==0]\n",
    "tmp_df0[['Amount']].describe()"
   ]
  },
  {
   "cell_type": "code",
   "execution_count": 11,
   "id": "361bd374",
   "metadata": {},
   "outputs": [],
   "source": [
    "import matplotlib.pyplot as plt\n",
    "import numpy as np\n",
    "\n",
    "#Checking to see if there are outliers in the non-fraud data\n",
    "\n",
    "# Creating plot\n",
    "plt.boxplot(tmp_df0[['Amount']])\n",
    " \n",
    "# show plot\n",
    "plt.show()\n",
    "\n",
    "#There are many outliers in the non-fraud data"
   ]
  },
  {
   "cell_type": "code",
   "execution_count": 12,
   "id": "694a47dd",
   "metadata": {},
   "outputs": [],
   "source": [
    "# Creating histogram for the non-fraud data\n",
    "fig, ax = plt.subplots(figsize =(10, 7))\n",
    "ax.hist(tmp_df0[['Amount']])\n",
    "plt.xlabel(\"Transaction Amount\")\n",
    "plt.ylabel(\"Transaction Count\")\n",
    "plt.title('Histogram of Transaction Amounts for Non-Fraud Data')\n",
    "\n",
    "# Show plot\n",
    "plt.show()"
   ]
  },
  {
   "cell_type": "markdown",
   "id": "c974159b",
   "metadata": {},
   "source": [
    "### Checking the Fraud Data"
   ]
  },
  {
   "cell_type": "code",
   "execution_count": 13,
   "id": "a82bce6d",
   "metadata": {},
   "outputs": [
    {
     "data": {
      "text/html": [
       "<div>\n",
       "<style scoped>\n",
       "    .dataframe tbody tr th:only-of-type {\n",
       "        vertical-align: middle;\n",
       "    }\n",
       "\n",
       "    .dataframe tbody tr th {\n",
       "        vertical-align: top;\n",
       "    }\n",
       "\n",
       "    .dataframe thead th {\n",
       "        text-align: right;\n",
       "    }\n",
       "</style>\n",
       "<table border=\"1\" class=\"dataframe\">\n",
       "  <thead>\n",
       "    <tr style=\"text-align: right;\">\n",
       "      <th></th>\n",
       "      <th>Amount</th>\n",
       "    </tr>\n",
       "  </thead>\n",
       "  <tbody>\n",
       "    <tr>\n",
       "      <th>count</th>\n",
       "      <td>492.000000</td>\n",
       "    </tr>\n",
       "    <tr>\n",
       "      <th>mean</th>\n",
       "      <td>122.211321</td>\n",
       "    </tr>\n",
       "    <tr>\n",
       "      <th>std</th>\n",
       "      <td>256.683288</td>\n",
       "    </tr>\n",
       "    <tr>\n",
       "      <th>min</th>\n",
       "      <td>0.000000</td>\n",
       "    </tr>\n",
       "    <tr>\n",
       "      <th>25%</th>\n",
       "      <td>1.000000</td>\n",
       "    </tr>\n",
       "    <tr>\n",
       "      <th>50%</th>\n",
       "      <td>9.250000</td>\n",
       "    </tr>\n",
       "    <tr>\n",
       "      <th>75%</th>\n",
       "      <td>105.890000</td>\n",
       "    </tr>\n",
       "    <tr>\n",
       "      <th>max</th>\n",
       "      <td>2125.870000</td>\n",
       "    </tr>\n",
       "  </tbody>\n",
       "</table>\n",
       "</div>"
      ],
      "text/plain": [
       "           Amount\n",
       "count  492.000000\n",
       "mean   122.211321\n",
       "std    256.683288\n",
       "min      0.000000\n",
       "25%      1.000000\n",
       "50%      9.250000\n",
       "75%    105.890000\n",
       "max   2125.870000"
      ]
     },
     "execution_count": 13,
     "metadata": {},
     "output_type": "execute_result"
    }
   ],
   "source": [
    "#Getting the details for the fraud data (class =1)\n",
    "tmp_df1=data_df[data_df['Class']==1]\n",
    "tmp_df1[['Amount']].describe()"
   ]
  },
  {
   "cell_type": "code",
   "execution_count": 14,
   "id": "168a55fd",
   "metadata": {},
   "outputs": [],
   "source": [
    "#Checking to see if there are outliers in the fraud data\n",
    "\n",
    "# Creating plot\n",
    "plt.boxplot(tmp_df1[['Amount']])\n",
    " \n",
    "# show plot\n",
    "plt.show()\n",
    "\n",
    "#There are many outliers in the fraud data"
   ]
  },
  {
   "cell_type": "code",
   "execution_count": 15,
   "id": "aadc2bca",
   "metadata": {},
   "outputs": [],
   "source": [
    "# Creating histogram for the fraud data\n",
    "fig, ax = plt.subplots(figsize =(10, 7))\n",
    "ax.hist(tmp_df1[['Amount']])\n",
    "plt.xlabel(\"Transaction Amount\")\n",
    "plt.ylabel(\"Transaction Count\")\n",
    "plt.title('Histogram of Transaction Amounts for the Fraud Data')\n",
    "\n",
    "# Show plot\n",
    "plt.show()"
   ]
  },
  {
   "cell_type": "markdown",
   "id": "1d27325f",
   "metadata": {},
   "source": [
    "### Interpretation\n",
    "\n",
    "The mean transaction amount for the fraud dataset is 122 which is lower than the mean transaction amount of the non-fraud dataset at 88. It means that the average amount of fraud transactions is higher than the average amount of the non-fraud/regular transactions. \n",
    "\n",
    "In terms of the maximum amount, the maximum amount of the fraud transaction is 2125 which is smaller than the maximum amount of the non-fraud transaction at 25691. This means that even if the average amount of fraudulent transactions are higher, the maximum amount is still lower than the maximum amount for non-fraud transactions.\n",
    "\n",
    "There are outliers for both fraud and non-fraud transactions and, in the histograms, both fraud and non-fraud transactions have higher frequencies of lower amounts."
   ]
  },
  {
   "cell_type": "markdown",
   "id": "2ab6330c",
   "metadata": {},
   "source": [
    "## Anomaly Detection\n",
    "\n",
    "### via Clustering\n",
    "\n",
    "Unsupervised Outlier Detection using Local Outlier Factor (LOF)\n",
    "\n",
    "The anomaly score of each sample is called Local Outlier Factor. It measures the local deviation of density of a given sample with respect to its neighbors. It is local in that the anomaly score depends on how isolated the object is with respect to the surrounding neighborhood. More precisely, locality is given by k-nearest neighbors, whose distance is used to estimate the local density. By comparing the local density of a sample to the local densities of its neighbors, one can identify samples that have a substantially lower density than their neighbors. These are considered outliers."
   ]
  },
  {
   "cell_type": "code",
   "execution_count": 18,
   "id": "9b26c010",
   "metadata": {},
   "outputs": [],
   "source": [
    "y = data_df.Class\n",
    "X = data_df.drop(['Class'],axis=1)"
   ]
  },
  {
   "cell_type": "code",
   "execution_count": 50,
   "id": "5ebf363a",
   "metadata": {},
   "outputs": [
    {
     "name": "stdout",
     "output_type": "stream",
     "text": [
      "Wall time: 20min 16s\n"
     ]
    }
   ],
   "source": [
    "%%time\n",
    "\n",
    "lof_model = LocalOutlierFactor(n_neighbors=2)\n",
    "y_pred = lof_model.fit_predict(X)\n"
   ]
  },
  {
   "cell_type": "code",
   "execution_count": 51,
   "id": "12d72085",
   "metadata": {},
   "outputs": [
    {
     "data": {
      "text/plain": [
       "array([ 1,  1, -1, ...,  1, -1,  1])"
      ]
     },
     "execution_count": 51,
     "metadata": {},
     "output_type": "execute_result"
    }
   ],
   "source": [
    "# lof works by tagging inliers with 1 and outliers by -1\n",
    "y_pred"
   ]
  },
  {
   "cell_type": "code",
   "execution_count": 52,
   "id": "2f4d9a63",
   "metadata": {},
   "outputs": [
    {
     "data": {
      "text/plain": [
       " 1    267076\n",
       "-1     17731\n",
       "dtype: int64"
      ]
     },
     "execution_count": 52,
     "metadata": {},
     "output_type": "execute_result"
    }
   ],
   "source": [
    "# Let's see how many outliers our unsupervised model detected (outliers are tagged as -1)\n",
    "\n",
    "tmp_df = pd.DataFrame(y_pred)\n",
    "tmp_df.value_counts()"
   ]
  },
  {
   "cell_type": "markdown",
   "id": "637861c9",
   "metadata": {},
   "source": [
    "Negative_outlier_factor_ is the opposite LOF of the training samples. The higher, the more normal. Inliers tend to have a LOF score close to 1 (negative_outlier_factor_ close to -1), while outliers tend to have a larger LOF score.\n",
    "\n",
    "Another interpretation is that negative_outlier_factor_ can be an indicator on how 'far' the outlier is from the neighborhood densities."
   ]
  },
  {
   "cell_type": "code",
   "execution_count": 53,
   "id": "e2e13dbc",
   "metadata": {},
   "outputs": [
    {
     "data": {
      "text/plain": [
       "array([-0.98442703, -0.95434346, -1.50888693, ..., -0.93621642,\n",
       "       -1.90162771, -1.05667335])"
      ]
     },
     "execution_count": 53,
     "metadata": {},
     "output_type": "execute_result"
    }
   ],
   "source": [
    "lof_model.negative_outlier_factor_"
   ]
  },
  {
   "cell_type": "markdown",
   "id": "ff5add1e",
   "metadata": {},
   "source": [
    "This demonstrates that we can use an unsupervised modeling approach to fraud detection in the event that we do not have yet substantial data on caught fraudsters. It is a good starting point to build our way towards building supervised models."
   ]
  },
  {
   "cell_type": "markdown",
   "id": "4c752102",
   "metadata": {},
   "source": [
    "### via Grubbs Test\n",
    "\n",
    "Grubbs’ Test is used to identify the presence of outliers in a dataset. To use this test, a dataset should be approximately normally distributed and have at least 7 observations. Grubbs's test is based on the assumption of normality. That is, one should first verify that the data can be reasonably approximated by a normal distribution before applying the Grubbs test."
   ]
  },
  {
   "cell_type": "code",
   "execution_count": 19,
   "id": "993e60a0",
   "metadata": {},
   "outputs": [
    {
     "data": {
      "text/plain": [
       "'Before'"
      ]
     },
     "metadata": {},
     "output_type": "display_data"
    },
    {
     "data": {
      "image/png": "[encoded data removed]",
      "text/plain": [
       "<Figure size 640x480 with 1 Axes>"
      ]
     },
     "metadata": {},
     "output_type": "display_data"
    },
    {
     "data": {
      "text/plain": [
       "'After'"
      ]
     },
     "metadata": {},
     "output_type": "display_data"
    },
    {
     "data": {
      "image/png": "[encoded data removed]",
      "text/plain": [
       "<Figure size 640x480 with 1 Axes>"
      ]
     },
     "metadata": {},
     "output_type": "display_data"
    }
   ],
   "source": [
    "# we will look at two classes of techniques for checking whether a sample of data is Gaussian:\n",
    "\n",
    "# Graphical Methods. These are methods for plotting the data and qualitatively evaluating whether the data looks Gaussian.\n",
    "# Statistical Tests. These are methods that calculate statistics on the data and quantify how likely it is that\n",
    "# the data was drawn from a Gaussian distribution. Methods of this type are often called normality tests.\n",
    "\n",
    "# via Graphical - We assume that plotting our data set would result to what would look like a 'normal' distribution\n",
    "\n",
    "# histogram - is an approximate representation of the distribution of numerical data\n",
    "\n",
    "series_tmp = data_df['Amount'].copy()\n",
    "display(\"Before\")\n",
    "series_tmp.hist()\n",
    "plt.show()\n",
    "# you can see here that our distribution skews to the left which is different to the bellcurve of a normal/gaussian distribution\n",
    "\n",
    "# To address this, we use a power transformation and try to make our dataset look normal/gaussian\n",
    "# The Boxcox function accepts a lambda parameter that dictates what transformation to do\n",
    "# In this case a lambda value of 0 means it will do a log transformation to all of the data set\n",
    "boxcox_series_tmp = pd.Series(boxcox1p(series_tmp,-0.2))\n",
    "display(\"After\")\n",
    "boxcox_series_tmp.hist()\n",
    "plt.show()\n",
    "\n",
    "# You can see here that our data set is now more 'gaussian' like"
   ]
  },
  {
   "cell_type": "code",
   "execution_count": 20,
   "id": "c580b866",
   "metadata": {},
   "outputs": [
    {
     "data": {
      "text/plain": [
       "'Before'"
      ]
     },
     "metadata": {},
     "output_type": "display_data"
    },
    {
     "data": {
      "image/png": "[encoded data removed]",
      "text/plain": [
       "<Figure size 640x480 with 1 Axes>"
      ]
     },
     "metadata": {},
     "output_type": "display_data"
    },
    {
     "data": {
      "text/plain": [
       "'After'"
      ]
     },
     "metadata": {},
     "output_type": "display_data"
    },
    {
     "data": {
      "image/png": "[encoded data removed]",
      "text/plain": [
       "<Figure size 640x480 with 1 Axes>"
      ]
     },
     "metadata": {},
     "output_type": "display_data"
    }
   ],
   "source": [
    "# The Q-Q plot, or quantile-quantile plot, is a graphical tool to help us assess if\n",
    "# a set of data plausibly came from some theoretical distribution such as a Normal or exponential. \n",
    "\n",
    "display(\"Before\")\n",
    "probplot(series_tmp, dist=\"norm\", plot=plt)\n",
    "plt.show()\n",
    "\n",
    "# You can see that our data set does not completely fit our plot, so we apply the same power transformation\n",
    "\n",
    "display(\"After\")\n",
    "\n",
    "probplot(boxcox_series_tmp, dist=\"norm\", plot=plt)\n",
    "plt.show()\n",
    "\n",
    "# We plot the data set again and see a minor visual improvements to the qq plot\n"
   ]
  },
  {
   "cell_type": "code",
   "execution_count": 21,
   "id": "c2a53041",
   "metadata": {},
   "outputs": [
    {
     "name": "stdout",
     "output_type": "stream",
     "text": [
      "Using Shapiro Normality Test\n",
      "Before: \n",
      "ShapiroResult(statistic=0.31006085872650146, pvalue=0.0)\n",
      "After\n",
      "ShapiroResult(statistic=0.9587987661361694, pvalue=0.0)\n",
      "\n",
      "Using D’Agostino’s K^2 Normality Test\n",
      "Before: \n",
      "NormaltestResult(statistic=588235.0121540151, pvalue=0.0)\n",
      "After\n",
      "NormaltestResult(statistic=27909.42584858108, pvalue=0.0)\n"
     ]
    }
   ],
   "source": [
    "# The next tests validate by generating a statistic called p value \n",
    "# Technically this is called the null hypothesis, or H0. A threshold level is chosen called alpha, \n",
    "# typically 5% (or 0.05), that is used to interpret the p-value.\n",
    "\n",
    "# In the SciPy implementation of these tests, you can interpret the p value as follows.\n",
    "\n",
    "# p <= alpha: reject H0, not normal.\n",
    "# p > alpha: fail to reject H0, normal.\n",
    "\n",
    "\n",
    "\n",
    "print(\"Using Shapiro Normality Test\")\n",
    "print(\"Before: \")\n",
    "print(shapiro(series_tmp))\n",
    "\n",
    "print(\"After\")\n",
    "print(shapiro(boxcox_series_tmp))\n",
    "\n",
    "# The Shapiro-Wilk test evaluates a data sample and quantifies how likely it is that the data was drawn from a\n",
    "# Gaussian distribution, named for Samuel Shapiro and Martin Wilk.\n",
    "\n",
    "print(\"\")\n",
    "\n",
    "print(\"Using D’Agostino’s K^2 Normality Test\")\n",
    "print(\"Before: \")\n",
    "print(normaltest(series_tmp))\n",
    "\n",
    "print(\"After\")\n",
    "print(normaltest(boxcox_series_tmp))\n",
    "\n",
    "\n",
    "# The normal test AKA D’Agostino’s K^2 test calculates summary statistics from the data, namely kurtosis and skewness,\n",
    "# to determine if the data distribution departs from the normal distribution, named for Ralph D’Agostino."
   ]
  },
  {
   "cell_type": "markdown",
   "id": "b2e71af9",
   "metadata": {},
   "source": [
    "Our statistical tests are telling us that our data set it not normally distributed, because of the resulting pvalue below .05 threshold despite our power transformations. On the other hand our graphical tests tells us that our data after the transformations are a bit more gaussian /normal like. No tests are perfect as well as no data is in reality 'completely' normally distributed. We can use this as decision point to move forward and treat our data set as gaussian like."
   ]
  },
  {
   "cell_type": "code",
   "execution_count": 29,
   "id": "e5b51c67",
   "metadata": {},
   "outputs": [
    {
     "name": "stdout",
     "output_type": "stream",
     "text": [
      "Our transformed data set length count: \n",
      "284807\n",
      "Our Grubbs test result length count: \n",
      "284807\n",
      "Grubs test works by returning the dataset and removing the anomalies, since the transformed data and the Grubbs test result is the same then we found no anomaly in the dataset\n"
     ]
    }
   ],
   "source": [
    "# test for normality first\n",
    "# transform to normal / guassian distribution to fit  if normality test fails\n",
    "# run grubb's test\n",
    "\n",
    "print(\"Our transformed data set length count: \")\n",
    "print(len(boxcox_series_tmp))\n",
    "grubbs_result = grubbs.test(boxcox_series_tmp, alpha=0.05)\n",
    "\n",
    "print(\"Our Grubbs test result length count: \")\n",
    "print(len(grubbs_result))\n",
    "\n",
    "print(\"Grubs test works by returning the dataset and removing the anomalies, since the transformed data and the Grubbs test result is the same then we found no anomaly in the dataset\")"
   ]
  },
  {
   "cell_type": "markdown",
   "id": "eeae6088",
   "metadata": {},
   "source": [
    "# SMOTE for oversampling\n",
    "SMOTE stands for Synthetic Minority Oversampling Technique. This is a statistical technique for increasing the number of cases in your dataset in a balanced way.\n",
    "\n",
    "Since our fraud dataset is imbalanced (low fraud cases), we will use oversampling to try to 'balance' the classes. This will results to more robust trained models that would be less prone to under or overfitting due to under or over representation."
   ]
  },
  {
   "cell_type": "code",
   "execution_count": 19,
   "id": "a40a23b3",
   "metadata": {},
   "outputs": [],
   "source": [
    "oversample = SMOTE()\n",
    "X, y = oversample.fit_resample(X, y)"
   ]
  },
  {
   "cell_type": "code",
   "execution_count": 20,
   "id": "600d20ee",
   "metadata": {},
   "outputs": [
    {
     "name": "stdout",
     "output_type": "stream",
     "text": [
      "Counter({0: 284315, 1: 284315})\n"
     ]
    }
   ],
   "source": [
    "# summarize the new class distribution\n",
    "counter = Counter(y)\n",
    "print(counter)"
   ]
  },
  {
   "cell_type": "markdown",
   "id": "e6a00de9",
   "metadata": {},
   "source": [
    "# Logistic Regression\n",
    "\n",
    "As our base model we will use a simple logistic regression as our starting point for developing our predictive model.\n",
    "\n",
    "### Using the SMOTE Oversampled Data"
   ]
  },
  {
   "cell_type": "code",
   "execution_count": 23,
   "id": "4dcd42a0",
   "metadata": {},
   "outputs": [
    {
     "data": {
      "text/plain": [
       "LogisticRegression(random_state=0)"
      ]
     },
     "execution_count": 23,
     "metadata": {},
     "output_type": "execute_result"
    }
   ],
   "source": [
    "# here we do a few things: 1) separate our data set into 30% and 70% splits\n",
    "# 70% will be used for as training data set\n",
    "# 30% will be used to test the resulting model\n",
    "# X represents our features\n",
    "# y represents our target variable (1 is fraud)\n",
    "import random\n",
    "random.seed(123)\n",
    "X_train, X_test, y_train, y_test = train_test_split(X, y, test_size=0.3, random_state=0)\n",
    "columns = X.columns \n",
    "# we keep the column names to be used later\n",
    "\n",
    "# Base model using all variables\n",
    "logreg_model = LogisticRegression(random_state=0)\n",
    "\n",
    "# Let's input our training data set and fit our model\n",
    "logreg_model.fit(X_train, y_train)"
   ]
  },
  {
   "cell_type": "markdown",
   "id": "ca16e809",
   "metadata": {},
   "source": [
    "### Using the original data (for comparison purposes later)"
   ]
  },
  {
   "cell_type": "code",
   "execution_count": 24,
   "id": "8c1313e4",
   "metadata": {},
   "outputs": [
    {
     "data": {
      "text/plain": [
       "0    0\n",
       "1    0\n",
       "2    0\n",
       "3    0\n",
       "4    0\n",
       "Name: Class, dtype: int64"
      ]
     },
     "execution_count": 24,
     "metadata": {},
     "output_type": "execute_result"
    }
   ],
   "source": [
    "yo = data_df.Class\n",
    "yo.head()"
   ]
  },
  {
   "cell_type": "code",
   "execution_count": 25,
   "id": "ddf9d26f",
   "metadata": {},
   "outputs": [
    {
     "data": {
      "text/html": [
       "<div>\n",
       "<style scoped>\n",
       "    .dataframe tbody tr th:only-of-type {\n",
       "        vertical-align: middle;\n",
       "    }\n",
       "\n",
       "    .dataframe tbody tr th {\n",
       "        vertical-align: top;\n",
       "    }\n",
       "\n",
       "    .dataframe thead th {\n",
       "        text-align: right;\n",
       "    }\n",
       "</style>\n",
       "<table border=\"1\" class=\"dataframe\">\n",
       "  <thead>\n",
       "    <tr style=\"text-align: right;\">\n",
       "      <th></th>\n",
       "      <th>Time</th>\n",
       "      <th>V1</th>\n",
       "      <th>V2</th>\n",
       "      <th>V3</th>\n",
       "      <th>V4</th>\n",
       "      <th>V5</th>\n",
       "      <th>V6</th>\n",
       "      <th>V7</th>\n",
       "      <th>V8</th>\n",
       "      <th>V9</th>\n",
       "      <th>...</th>\n",
       "      <th>V20</th>\n",
       "      <th>V21</th>\n",
       "      <th>V22</th>\n",
       "      <th>V23</th>\n",
       "      <th>V24</th>\n",
       "      <th>V25</th>\n",
       "      <th>V26</th>\n",
       "      <th>V27</th>\n",
       "      <th>V28</th>\n",
       "      <th>Amount</th>\n",
       "    </tr>\n",
       "  </thead>\n",
       "  <tbody>\n",
       "    <tr>\n",
       "      <th>0</th>\n",
       "      <td>0.000000</td>\n",
       "      <td>-1.359807</td>\n",
       "      <td>-0.072781</td>\n",
       "      <td>2.536347</td>\n",
       "      <td>1.378155</td>\n",
       "      <td>-0.338321</td>\n",
       "      <td>0.462388</td>\n",
       "      <td>0.239599</td>\n",
       "      <td>0.098698</td>\n",
       "      <td>0.363787</td>\n",
       "      <td>...</td>\n",
       "      <td>0.251412</td>\n",
       "      <td>-0.018307</td>\n",
       "      <td>0.277838</td>\n",
       "      <td>-0.110474</td>\n",
       "      <td>0.066928</td>\n",
       "      <td>0.128539</td>\n",
       "      <td>-0.189115</td>\n",
       "      <td>0.133558</td>\n",
       "      <td>-0.021053</td>\n",
       "      <td>149.620000</td>\n",
       "    </tr>\n",
       "    <tr>\n",
       "      <th>1</th>\n",
       "      <td>0.000000</td>\n",
       "      <td>1.191857</td>\n",
       "      <td>0.266151</td>\n",
       "      <td>0.166480</td>\n",
       "      <td>0.448154</td>\n",
       "      <td>0.060018</td>\n",
       "      <td>-0.082361</td>\n",
       "      <td>-0.078803</td>\n",
       "      <td>0.085102</td>\n",
       "      <td>-0.255425</td>\n",
       "      <td>...</td>\n",
       "      <td>-0.069083</td>\n",
       "      <td>-0.225775</td>\n",
       "      <td>-0.638672</td>\n",
       "      <td>0.101288</td>\n",
       "      <td>-0.339846</td>\n",
       "      <td>0.167170</td>\n",
       "      <td>0.125895</td>\n",
       "      <td>-0.008983</td>\n",
       "      <td>0.014724</td>\n",
       "      <td>2.690000</td>\n",
       "    </tr>\n",
       "    <tr>\n",
       "      <th>2</th>\n",
       "      <td>1.000000</td>\n",
       "      <td>-1.358354</td>\n",
       "      <td>-1.340163</td>\n",
       "      <td>1.773209</td>\n",
       "      <td>0.379780</td>\n",
       "      <td>-0.503198</td>\n",
       "      <td>1.800499</td>\n",
       "      <td>0.791461</td>\n",
       "      <td>0.247676</td>\n",
       "      <td>-1.514654</td>\n",
       "      <td>...</td>\n",
       "      <td>0.524980</td>\n",
       "      <td>0.247998</td>\n",
       "      <td>0.771679</td>\n",
       "      <td>0.909412</td>\n",
       "      <td>-0.689281</td>\n",
       "      <td>-0.327642</td>\n",
       "      <td>-0.139097</td>\n",
       "      <td>-0.055353</td>\n",
       "      <td>-0.059752</td>\n",
       "      <td>378.660000</td>\n",
       "    </tr>\n",
       "    <tr>\n",
       "      <th>3</th>\n",
       "      <td>1.000000</td>\n",
       "      <td>-0.966272</td>\n",
       "      <td>-0.185226</td>\n",
       "      <td>1.792993</td>\n",
       "      <td>-0.863291</td>\n",
       "      <td>-0.010309</td>\n",
       "      <td>1.247203</td>\n",
       "      <td>0.237609</td>\n",
       "      <td>0.377436</td>\n",
       "      <td>-1.387024</td>\n",
       "      <td>...</td>\n",
       "      <td>-0.208038</td>\n",
       "      <td>-0.108300</td>\n",
       "      <td>0.005274</td>\n",
       "      <td>-0.190321</td>\n",
       "      <td>-1.175575</td>\n",
       "      <td>0.647376</td>\n",
       "      <td>-0.221929</td>\n",
       "      <td>0.062723</td>\n",
       "      <td>0.061458</td>\n",
       "      <td>123.500000</td>\n",
       "    </tr>\n",
       "    <tr>\n",
       "      <th>4</th>\n",
       "      <td>2.000000</td>\n",
       "      <td>-1.158233</td>\n",
       "      <td>0.877737</td>\n",
       "      <td>1.548718</td>\n",
       "      <td>0.403034</td>\n",
       "      <td>-0.407193</td>\n",
       "      <td>0.095921</td>\n",
       "      <td>0.592941</td>\n",
       "      <td>-0.270533</td>\n",
       "      <td>0.817739</td>\n",
       "      <td>...</td>\n",
       "      <td>0.408542</td>\n",
       "      <td>-0.009431</td>\n",
       "      <td>0.798278</td>\n",
       "      <td>-0.137458</td>\n",
       "      <td>0.141267</td>\n",
       "      <td>-0.206010</td>\n",
       "      <td>0.502292</td>\n",
       "      <td>0.219422</td>\n",
       "      <td>0.215153</td>\n",
       "      <td>69.990000</td>\n",
       "    </tr>\n",
       "  </tbody>\n",
       "</table>\n",
       "<p>5 rows × 30 columns</p>\n",
       "</div>"
      ],
      "text/plain": [
       "      Time        V1        V2       V3        V4        V5        V6  \\\n",
       "0 0.000000 -1.359807 -0.072781 2.536347  1.378155 -0.338321  0.462388   \n",
       "1 0.000000  1.191857  0.266151 0.166480  0.448154  0.060018 -0.082361   \n",
       "2 1.000000 -1.358354 -1.340163 1.773209  0.379780 -0.503198  1.800499   \n",
       "3 1.000000 -0.966272 -0.185226 1.792993 -0.863291 -0.010309  1.247203   \n",
       "4 2.000000 -1.158233  0.877737 1.548718  0.403034 -0.407193  0.095921   \n",
       "\n",
       "         V7        V8        V9  ...       V20       V21       V22       V23  \\\n",
       "0  0.239599  0.098698  0.363787  ...  0.251412 -0.018307  0.277838 -0.110474   \n",
       "1 -0.078803  0.085102 -0.255425  ... -0.069083 -0.225775 -0.638672  0.101288   \n",
       "2  0.791461  0.247676 -1.514654  ...  0.524980  0.247998  0.771679  0.909412   \n",
       "3  0.237609  0.377436 -1.387024  ... -0.208038 -0.108300  0.005274 -0.190321   \n",
       "4  0.592941 -0.270533  0.817739  ...  0.408542 -0.009431  0.798278 -0.137458   \n",
       "\n",
       "        V24       V25       V26       V27       V28     Amount  \n",
       "0  0.066928  0.128539 -0.189115  0.133558 -0.021053 149.620000  \n",
       "1 -0.339846  0.167170  0.125895 -0.008983  0.014724   2.690000  \n",
       "2 -0.689281 -0.327642 -0.139097 -0.055353 -0.059752 378.660000  \n",
       "3 -1.175575  0.647376 -0.221929  0.062723  0.061458 123.500000  \n",
       "4  0.141267 -0.206010  0.502292  0.219422  0.215153  69.990000  \n",
       "\n",
       "[5 rows x 30 columns]"
      ]
     },
     "execution_count": 25,
     "metadata": {},
     "output_type": "execute_result"
    }
   ],
   "source": [
    "Xo = data_df.drop(['Class'],axis=1)\n",
    "Xo.head()"
   ]
  },
  {
   "cell_type": "code",
   "execution_count": 26,
   "id": "3aea68f6",
   "metadata": {},
   "outputs": [
    {
     "data": {
      "text/plain": [
       "LogisticRegression(random_state=0)"
      ]
     },
     "execution_count": 26,
     "metadata": {},
     "output_type": "execute_result"
    }
   ],
   "source": [
    "# here we do a few things: 1) separate our data set into 30% and 70% splits\n",
    "# 70% will be used for as training data set\n",
    "# 30% will be used to test the resulting model\n",
    "# X represents our features\n",
    "# y represents our target variable (1 is fraud)\n",
    "\n",
    "Xo_train, Xo_test, yo_train, yo_test = train_test_split(Xo, yo, test_size=0.3, random_state=0)\n",
    "columns = X.columns \n",
    "# we keep the column names to be used later\n",
    "\n",
    "# Base model using all variables\n",
    "logreg_model = LogisticRegression(random_state=0)\n",
    "\n",
    "# Let's input our training data set and fit our model\n",
    "logreg_model.fit(Xo_train, yo_train)"
   ]
  },
  {
   "cell_type": "markdown",
   "id": "1604f41a",
   "metadata": {},
   "source": [
    "# Quick review of feature importance\n",
    "Using our trained logistic regression model, we will extract the computed coefficients and use that as basis for reporting the the effect of each feature to with respect to predicting the classification. A positive indicates the likelihood to result to a 1 while a negative value a 0. The value indicates the degree of impact to the classification."
   ]
  },
  {
   "cell_type": "code",
   "execution_count": 28,
   "id": "d041716d",
   "metadata": {},
   "outputs": [
    {
     "name": "stdout",
     "output_type": "stream",
     "text": [
      "Feature: 0 - Time, Score: -0.000096\n",
      "Feature: 1 - V1, Score: 0.601370\n",
      "Feature: 2 - V2, Score: -0.870816\n",
      "Feature: 3 - V3, Score: -0.859442\n",
      "Feature: 4 - V4, Score: 0.199180\n",
      "Feature: 5 - V5, Score: 0.200135\n",
      "Feature: 6 - V6, Score: -0.105278\n",
      "Feature: 7 - V7, Score: 0.337658\n",
      "Feature: 8 - V8, Score: -0.399036\n",
      "Feature: 9 - V9, Score: -0.676273\n",
      "Feature: 10 - V10, Score: -0.445535\n",
      "Feature: 11 - V11, Score: -0.191982\n",
      "Feature: 12 - V12, Score: -0.051718\n",
      "Feature: 13 - V13, Score: -0.481829\n",
      "Feature: 14 - V14, Score: -1.264364\n",
      "Feature: 15 - V15, Score: -0.415536\n",
      "Feature: 16 - V16, Score: -0.495216\n",
      "Feature: 17 - V17, Score: -0.927720\n",
      "Feature: 18 - V18, Score: -0.075374\n",
      "Feature: 19 - V19, Score: 0.078571\n",
      "Feature: 20 - V20, Score: 0.056166\n",
      "Feature: 21 - V21, Score: 0.324031\n",
      "Feature: 22 - V22, Score: 0.357750\n",
      "Feature: 23 - V23, Score: 0.053023\n",
      "Feature: 24 - V24, Score: -0.022691\n",
      "Feature: 25 - V25, Score: -0.335252\n",
      "Feature: 26 - V26, Score: 0.063994\n",
      "Feature: 27 - V27, Score: -0.080536\n",
      "Feature: 28 - V28, Score: 0.075865\n",
      "Feature: 29 - Amount, Score: -0.011819\n"
     ]
    }
   ],
   "source": [
    "importance = logreg_model.coef_[0]\n",
    "# summarize feature importance\n",
    "for i,v in enumerate(importance):\n",
    "    print('Feature: %0d - %s, Score: %.6f' % (i,columns[i],v))\n",
    "\n",
    "# plot feature importance\n",
    "plt.bar([columns[x] for x in range(len(importance))], importance)\n",
    "plt.xticks(rotation=90)\n",
    "plt.show()"
   ]
  },
  {
   "cell_type": "markdown",
   "id": "4e171c28",
   "metadata": {},
   "source": [
    "### Interpretation\n",
    "\n",
    "The top 3 variables with the greatest impact on whether a transaction will be fraudulent or not are V14, V3 and V4. Due to the confidential nature of the credit card transactions, we don't have information on what these PCA profiles are however what we know is that if the V14 and V3 values are high, then the transactions are not likely to be fraudulent. The opposite is true for V4 where if the V4 value is high, then the transaction is likely to be fraudulent."
   ]
  },
  {
   "cell_type": "markdown",
   "id": "b92f44c8",
   "metadata": {},
   "source": [
    "# Let's predict\n",
    "\n",
    "### Predictions for the SMOTE Oversampled Data"
   ]
  },
  {
   "cell_type": "code",
   "execution_count": 35,
   "id": "6c98362c",
   "metadata": {},
   "outputs": [
    {
     "data": {
      "text/plain": [
       "array([1, 1, 1, ..., 1, 0, 1], dtype=int64)"
      ]
     },
     "execution_count": 35,
     "metadata": {},
     "output_type": "execute_result"
    }
   ],
   "source": [
    "# predict against X_test\n",
    "y_pred = logreg_model.predict(X_test)\n",
    "y_pred"
   ]
  },
  {
   "cell_type": "code",
   "execution_count": 36,
   "id": "cda10fd1",
   "metadata": {},
   "outputs": [
    {
     "name": "stdout",
     "output_type": "stream",
     "text": [
      "accuracy:  0.9722021935763736\n",
      "precision_score:  0.9793580434705106\n",
      "recall_score:  0.9648196494842947\n",
      "confusion matrix: \n"
     ]
    },
    {
     "data": {
      "text/plain": [
       "array([[83435,  1737],\n",
       "       [ 3005, 82412]], dtype=int64)"
      ]
     },
     "execution_count": 36,
     "metadata": {},
     "output_type": "execute_result"
    }
   ],
   "source": [
    "# Let's save our results in a variable for later use\n",
    "y_pred_lr = y_pred\n",
    "\n",
    "# How did our logistic regression perform?\n",
    "\n",
    "print(\"accuracy: \",accuracy_score(y_test,y_pred_lr))\n",
    "print(\"precision_score: \",precision_score(y_test,y_pred_lr))\n",
    "print(\"recall_score: \",recall_score(y_test,y_pred_lr))\n",
    "print(\"confusion matrix: \")\n",
    "confusion_matrix(y_test,y_pred_lr)"
   ]
  },
  {
   "cell_type": "markdown",
   "id": "c805e0d2",
   "metadata": {},
   "source": [
    "### Predictions for the original dataset"
   ]
  },
  {
   "cell_type": "code",
   "execution_count": 59,
   "id": "2aeee76f",
   "metadata": {},
   "outputs": [
    {
     "data": {
      "text/plain": [
       "array([0, 0, 0, ..., 0, 0, 0], dtype=int64)"
      ]
     },
     "execution_count": 59,
     "metadata": {},
     "output_type": "execute_result"
    }
   ],
   "source": [
    "# predict against X_test\n",
    "yo_pred = logreg_model.predict(Xo_test)\n",
    "yo_pred"
   ]
  },
  {
   "cell_type": "code",
   "execution_count": 60,
   "id": "00cce3e7",
   "metadata": {},
   "outputs": [
    {
     "name": "stdout",
     "output_type": "stream",
     "text": [
      "accuracy:  0.999133925541004\n",
      "precision_score:  0.7703703703703704\n",
      "recall_score:  0.7074829931972789\n",
      "confusion matrix: \n"
     ]
    },
    {
     "data": {
      "text/plain": [
       "array([[85265,    31],\n",
       "       [   43,   104]], dtype=int64)"
      ]
     },
     "execution_count": 60,
     "metadata": {},
     "output_type": "execute_result"
    }
   ],
   "source": [
    "# Let's save our results in a variable for later use\n",
    "yo_pred_lr = yo_pred\n",
    "\n",
    "# How did our logistic regression perform?\n",
    "\n",
    "print(\"accuracy: \",accuracy_score(yo_test,yo_pred_lr))\n",
    "print(\"precision_score: \",precision_score(yo_test,yo_pred_lr))\n",
    "print(\"recall_score: \",recall_score(yo_test,yo_pred_lr))\n",
    "print(\"confusion matrix: \")\n",
    "confusion_matrix(yo_test,yo_pred_lr)"
   ]
  },
  {
   "cell_type": "markdown",
   "id": "8879091b",
   "metadata": {},
   "source": [
    "### Comparison of the prediction metrics for the SMOTE Oversampled and the Original Dataset\n",
    "\n",
    "The original dataset represents the real world (not oversampled data). Logistic regression in the original dataset has a higher accuracy which is expected since 99.828% of the transactions in the original dataset are non-fraudulent. However, the original dataset has a lower precision (77%) and a lower recall score (71%). Nevertheless, we think that this is good enough considering that the instance of fraud in the original dataset is only 0.172% of the total transactions.\n",
    "\n",
    "Predictions using the oversampled data has a higher precision and recall which is expected since the distribution of the fraud/non-fraud transactions in the oversampled data is 50-50."
   ]
  },
  {
   "cell_type": "code",
   "execution_count": 37,
   "id": "3bc91a75",
   "metadata": {},
   "outputs": [
    {
     "name": "stdout",
     "output_type": "stream",
     "text": [
      "No Skill: ROC AUC=0.500\n",
      "Logistic: ROC AUC=0.972\n"
     ]
    },
    {
     "data": {
      "image/png": "[encoded data removed]",
      "text/plain": [
       "<Figure size 640x480 with 1 Axes>"
      ]
     },
     "metadata": {},
     "output_type": "display_data"
    }
   ],
   "source": [
    "# generate a no skill prediction (majority class)\n",
    "ns_probs = [0 for _ in range(len(y_test))]\n",
    "lr_probs = y_pred_lr\n",
    "# keep probabilities for the positive outcome only\n",
    "#lr_probs = lr_probs[:, 1]\n",
    "\n",
    "# calculate scores\n",
    "ns_auc = roc_auc_score(y_test, ns_probs)\n",
    "lr_auc = roc_auc_score(y_test, lr_probs)\n",
    "# summarize scores\n",
    "print('No Skill: ROC AUC=%.3f' % (ns_auc))\n",
    "print('Logistic: ROC AUC=%.3f' % (lr_auc))\n",
    "# calculate roc curves\n",
    "ns_fpr, ns_tpr, _ = roc_curve(y_test, ns_probs)\n",
    "lr_fpr, lr_tpr, _ = roc_curve(y_test, lr_probs)\n",
    "# plot the roc curve for the model\n",
    "plt.plot(ns_fpr, ns_tpr, linestyle='--', label='No Skill')\n",
    "plt.plot(lr_fpr, lr_tpr, marker='.', label='Logistic Regression')\n",
    "# axis labels\n",
    "plt.xlabel('False Positive Rate')\n",
    "plt.ylabel('True Positive Rate')\n",
    "# show the legend\n",
    "plt.legend()\n",
    "# show the plot\n",
    "plt.show()"
   ]
  },
  {
   "cell_type": "markdown",
   "id": "f1ab355a",
   "metadata": {},
   "source": [
    "The performance of the logistic regression is actually very good since it has a high ROC score of 0.972. This means that logistic regression was able to come up with a good separation between the fraud/non-fraud transactions. We will use the logistic regression ROC score later in comparison with the other methods."
   ]
  },
  {
   "cell_type": "markdown",
   "id": "5947e048",
   "metadata": {},
   "source": [
    "# Neural Network\n",
    "\n",
    "As our base model we will use a simple logistic regression as our starting point for developing our predictive model."
   ]
  },
  {
   "cell_type": "code",
   "execution_count": 38,
   "id": "15d59dd5",
   "metadata": {},
   "outputs": [
    {
     "name": "stdout",
     "output_type": "stream",
     "text": [
      "Wall time: 7min 46s\n"
     ]
    },
    {
     "data": {
      "text/plain": [
       "MLPClassifier(random_state=0)"
      ]
     },
     "execution_count": 38,
     "metadata": {},
     "output_type": "execute_result"
    }
   ],
   "source": [
    "%%time \n",
    "\n",
    "# Class MLPClassifier implements a multi-layer perceptron (MLP) algorithm that trains using Backpropagation.\n",
    "\n",
    "\n",
    "\n",
    "nn_model = MLPClassifier(random_state=0)\n",
    "\n",
    "nn_model.fit(X_train, y_train)\n"
   ]
  },
  {
   "cell_type": "code",
   "execution_count": 39,
   "id": "c9ad4fa6",
   "metadata": {},
   "outputs": [
    {
     "data": {
      "text/plain": [
       "array([1, 1, 1, ..., 1, 0, 1], dtype=int64)"
      ]
     },
     "execution_count": 39,
     "metadata": {},
     "output_type": "execute_result"
    }
   ],
   "source": [
    "# predict against X_test\n",
    "y_pred = nn_model.predict(X_test)\n",
    "y_pred"
   ]
  },
  {
   "cell_type": "code",
   "execution_count": 40,
   "id": "9b69e059",
   "metadata": {},
   "outputs": [
    {
     "name": "stdout",
     "output_type": "stream",
     "text": [
      "accuracy:  0.9794652644660559\n",
      "precision_score:  0.9917987512007685\n",
      "recall_score:  0.9669854946907525\n",
      "confusion matrix: \n"
     ]
    },
    {
     "data": {
      "text/plain": [
       "array([[84489,   683],\n",
       "       [ 2820, 82597]], dtype=int64)"
      ]
     },
     "execution_count": 40,
     "metadata": {},
     "output_type": "execute_result"
    }
   ],
   "source": [
    "# Let's save our results in a variable for later use\n",
    "y_pred_nn = y_pred\n",
    "\n",
    "# How did our neural network model perform?\n",
    "\n",
    "print(\"accuracy: \",accuracy_score(y_test,y_pred_nn))\n",
    "print(\"precision_score: \",precision_score(y_test,y_pred_nn))\n",
    "print(\"recall_score: \",recall_score(y_test,y_pred_nn))\n",
    "print(\"confusion matrix: \")\n",
    "confusion_matrix(y_test,y_pred_nn)"
   ]
  },
  {
   "cell_type": "code",
   "execution_count": 41,
   "id": "e163141d",
   "metadata": {},
   "outputs": [
    {
     "name": "stdout",
     "output_type": "stream",
     "text": [
      "No Skill: ROC AUC=0.500\n",
      "Neural Network: ROC AUC=0.979\n"
     ]
    },
    {
     "data": {
      "image/png": "[encoded data removed]",
      "text/plain": [
       "<Figure size 640x480 with 1 Axes>"
      ]
     },
     "metadata": {},
     "output_type": "display_data"
    }
   ],
   "source": [
    "# generate a no skill prediction (majority class)\n",
    "ns_probs = [0 for _ in range(len(y_test))]\n",
    "lr_probs = y_pred_nn\n",
    "\n",
    "# calculate scores\n",
    "ns_auc = roc_auc_score(y_test, ns_probs)\n",
    "lr_auc = roc_auc_score(y_test, lr_probs)\n",
    "# summarize scores\n",
    "print('No Skill: ROC AUC=%.3f' % (ns_auc))\n",
    "print('Neural Network: ROC AUC=%.3f' % (lr_auc))\n",
    "\n",
    "# calculate roc curves\n",
    "ns_fpr, ns_tpr, _ = roc_curve(y_test, ns_probs)\n",
    "lr_fpr, lr_tpr, _ = roc_curve(y_test, lr_probs)\n",
    "# plot the roc curve for the model\n",
    "plt.plot(ns_fpr, ns_tpr, linestyle='--', label='No Skill')\n",
    "plt.plot(lr_fpr, lr_tpr, marker='.', label='Neural Network')\n",
    "# axis labels\n",
    "plt.xlabel('False Positive Rate')\n",
    "plt.ylabel('True Positive Rate')\n",
    "# show the legend\n",
    "plt.legend()\n",
    "# show the plot\n",
    "plt.show()"
   ]
  },
  {
   "cell_type": "markdown",
   "id": "9f0a0e29",
   "metadata": {},
   "source": [
    "The performance of the neural network with an ROC score of 0.979 is better than the performance of the logistic regression model with an ROC score of 0.972. Neural networks also have a higher accuracy, precision and recall scores as compared to logistic regression models. This means that neural networks will be able to make a better prediction on fraud/non-fraud transactions."
   ]
  },
  {
   "cell_type": "markdown",
   "id": "df996ee8",
   "metadata": {},
   "source": [
    "# Revised Neural Network\n",
    "\n",
    "Let's remodel the Neural Network but this time, let's filter out the features with absolute importance values less than 0.1 namely V22, V2, V20, V8, V19, V25, V5, V27, V28, V23, V26, V24, Time and Amount since based on the feature importance review, these features contributed least to the predicting factor of the model."
   ]
  },
  {
   "cell_type": "code",
   "execution_count": 64,
   "id": "a20ff296",
   "metadata": {},
   "outputs": [],
   "source": [
    "# Let's remove the features and create our revised train test dataset\n",
    "revised_X = X.drop(['V22', 'V2', 'V20', 'V8', 'V19', 'V25', 'V5', 'V27', 'V28', 'V23', 'V26', 'V24', 'Time', 'Amount'], axis=1)\n",
    "revised_X_train, revised_X_test, y_train, y_test = train_test_split(revised_X, y, test_size=0.3, random_state=0)"
   ]
  },
  {
   "cell_type": "code",
   "execution_count": 65,
   "id": "f1464cb4",
   "metadata": {},
   "outputs": [
    {
     "name": "stdout",
     "output_type": "stream",
     "text": [
      "Wall time: 1min\n"
     ]
    },
    {
     "data": {
      "text/plain": [
       "MLPClassifier(random_state=0)"
      ]
     },
     "execution_count": 65,
     "metadata": {},
     "output_type": "execute_result"
    }
   ],
   "source": [
    "%%time \n",
    "\n",
    "# Class MLPClassifier implements a multi-layer perceptron (MLP) algorithm that trains using Backpropagation.\n",
    "\n",
    "\n",
    "\n",
    "revised_nn_model = MLPClassifier(random_state=0)\n",
    "\n",
    "revised_nn_model.fit(revised_X_train, y_train)\n"
   ]
  },
  {
   "cell_type": "code",
   "execution_count": 66,
   "id": "487cf48f",
   "metadata": {},
   "outputs": [
    {
     "data": {
      "text/plain": [
       "array([1, 1, 1, ..., 1, 0, 1], dtype=int64)"
      ]
     },
     "execution_count": 66,
     "metadata": {},
     "output_type": "execute_result"
    }
   ],
   "source": [
    "# predict against X_test\n",
    "y_pred = revised_nn_model.predict(revised_X_test)\n",
    "y_pred"
   ]
  },
  {
   "cell_type": "code",
   "execution_count": 67,
   "id": "a57967af",
   "metadata": {},
   "outputs": [
    {
     "name": "stdout",
     "output_type": "stream",
     "text": [
      "accuracy:  0.9995720708838202\n",
      "precision_score:  0.9992628992628992\n",
      "recall_score:  0.9998829272861374\n",
      "confusion matrix: \n"
     ]
    },
    {
     "data": {
      "text/plain": [
       "array([[85109,    63],\n",
       "       [   10, 85407]], dtype=int64)"
      ]
     },
     "execution_count": 67,
     "metadata": {},
     "output_type": "execute_result"
    }
   ],
   "source": [
    "# Let's save our results in a variable for later use\n",
    "y_pred_revised_nn = y_pred\n",
    "\n",
    "# How did our neural network model perform?\n",
    "\n",
    "print(\"accuracy: \",accuracy_score(y_test,y_pred_revised_nn))\n",
    "print(\"precision_score: \",precision_score(y_test,y_pred_revised_nn))\n",
    "print(\"recall_score: \",recall_score(y_test,y_pred_revised_nn))\n",
    "print(\"confusion matrix: \")\n",
    "confusion_matrix(y_test,y_pred_revised_nn)"
   ]
  },
  {
   "cell_type": "code",
   "execution_count": 68,
   "id": "ba66e932",
   "metadata": {},
   "outputs": [
    {
     "name": "stdout",
     "output_type": "stream",
     "text": [
      "No Skill: ROC AUC=0.500\n",
      "Neural Network: ROC AUC=1.000\n"
     ]
    },
    {
     "data": {
      "image/png": "[encoded data removed]",
      "text/plain": [
       "<Figure size 640x480 with 1 Axes>"
      ]
     },
     "metadata": {},
     "output_type": "display_data"
    }
   ],
   "source": [
    "# generate a no skill prediction (majority class)\n",
    "ns_probs = [0 for _ in range(len(y_test))]\n",
    "lr_probs = y_pred_revised_nn\n",
    "\n",
    "# calculate scores\n",
    "ns_auc = roc_auc_score(y_test, ns_probs)\n",
    "lr_auc = roc_auc_score(y_test, lr_probs)\n",
    "# summarize scores\n",
    "print('No Skill: ROC AUC=%.3f' % (ns_auc))\n",
    "print('Neural Network: ROC AUC=%.3f' % (lr_auc))\n",
    "\n",
    "# calculate roc curves\n",
    "ns_fpr, ns_tpr, _ = roc_curve(y_test, ns_probs)\n",
    "lr_fpr, lr_tpr, _ = roc_curve(y_test, lr_probs)\n",
    "# plot the roc curve for the model\n",
    "plt.plot(ns_fpr, ns_tpr, linestyle='--', label='No Skill')\n",
    "plt.plot(lr_fpr, lr_tpr, marker='.', label='Revised Neural Network')\n",
    "# axis labels\n",
    "plt.xlabel('False Positive Rate')\n",
    "plt.ylabel('True Positive Rate')\n",
    "# show the legend\n",
    "plt.legend()\n",
    "# show the plot\n",
    "plt.show()"
   ]
  },
  {
   "cell_type": "markdown",
   "id": "fda504db",
   "metadata": {},
   "source": [
    "## Summary of the Accuracy, Precision, Recall and ROC AUC for the different models"
   ]
  },
  {
   "cell_type": "code",
   "execution_count": 69,
   "id": "9dbc6fd2",
   "metadata": {},
   "outputs": [
    {
     "data": {
      "text/html": [
       "<div>\n",
       "<style scoped>\n",
       "    .dataframe tbody tr th:only-of-type {\n",
       "        vertical-align: middle;\n",
       "    }\n",
       "\n",
       "    .dataframe tbody tr th {\n",
       "        vertical-align: top;\n",
       "    }\n",
       "\n",
       "    .dataframe thead th {\n",
       "        text-align: right;\n",
       "    }\n",
       "</style>\n",
       "<table border=\"1\" class=\"dataframe\">\n",
       "  <thead>\n",
       "    <tr style=\"text-align: right;\">\n",
       "      <th></th>\n",
       "      <th>accuracy</th>\n",
       "      <th>precision</th>\n",
       "      <th>recall</th>\n",
       "      <th>roc auc</th>\n",
       "    </tr>\n",
       "  </thead>\n",
       "  <tbody>\n",
       "    <tr>\n",
       "      <th>LogisticRegression</th>\n",
       "      <td>0.972202</td>\n",
       "      <td>0.979358</td>\n",
       "      <td>0.964820</td>\n",
       "      <td>0.972213</td>\n",
       "    </tr>\n",
       "    <tr>\n",
       "      <th>NeuralNetworks</th>\n",
       "      <td>0.979465</td>\n",
       "      <td>0.991799</td>\n",
       "      <td>0.966985</td>\n",
       "      <td>0.979483</td>\n",
       "    </tr>\n",
       "    <tr>\n",
       "      <th>RevisedNeuralNetworks</th>\n",
       "      <td>0.999572</td>\n",
       "      <td>0.999263</td>\n",
       "      <td>0.999883</td>\n",
       "      <td>0.999572</td>\n",
       "    </tr>\n",
       "  </tbody>\n",
       "</table>\n",
       "</div>"
      ],
      "text/plain": [
       "                       accuracy  precision   recall  roc auc\n",
       "LogisticRegression     0.972202   0.979358 0.964820 0.972213\n",
       "NeuralNetworks         0.979465   0.991799 0.966985 0.979483\n",
       "RevisedNeuralNetworks  0.999572   0.999263 0.999883 0.999572"
      ]
     },
     "execution_count": 69,
     "metadata": {},
     "output_type": "execute_result"
    }
   ],
   "source": [
    "tmp_list = []\n",
    "tmp_dict = {\"accuracy\":accuracy_score(y_test,y_pred_lr), \"precision\":precision_score(y_test,y_pred_lr), \"recall\":recall_score(y_test,y_pred_lr),\"roc auc\": roc_auc_score(y_test,y_pred_lr)}\n",
    "tmp_list.append(tmp_dict)\n",
    "tmp_dict = {\"accuracy\":accuracy_score(y_test,y_pred_nn), \"precision\":precision_score(y_test,y_pred_nn), \"recall\":recall_score(y_test,y_pred_nn),\"roc auc\":roc_auc_score(y_test,y_pred_nn)}\n",
    "tmp_list.append(tmp_dict)\n",
    "tmp_dict = {\"accuracy\":accuracy_score(y_test,y_pred_revised_nn), \"precision\":precision_score(y_test,y_pred_revised_nn), \"recall\":recall_score(y_test,y_pred_revised_nn),\"roc auc\":roc_auc_score(y_test,y_pred_revised_nn)}\n",
    "tmp_list.append(tmp_dict)\n",
    "\n",
    "scores_df = pd.DataFrame(tmp_list)\n",
    "scores_df.index = ['LogisticRegression','NeuralNetworks','RevisedNeuralNetworks']\n",
    "scores_df"
   ]
  },
  {
   "cell_type": "markdown",
   "id": "c5e8a755",
   "metadata": {},
   "source": [
    "### Interpretation\n",
    "\n",
    "The best performing model is the revised neural network with the best values for the accuracy, precision, recall and roc auc. We'd recommend using this to detect fraudulent credit card transactions since it has the highest accuracy, precision and recall as compared to the other models. \n",
    "\n",
    "Credit card transactions are usually have a high volume which means when investigating fraudulent activities, we want a model with a high accuracy, precision and recall to limit the capture of false positives and hence control the cost of investigating fraud (which is normally high) and to minimize the impact to our customers."
   ]
  },
  {
   "cell_type": "markdown",
   "id": "30e04aa9",
   "metadata": {},
   "source": [
    "## Cumulative Accuracy Profile (CAP) or Lorenz Curve\n",
    "\n",
    "CAP popularly called the ‘Cumulative Accuracy Profile’ is used in the performance evaluation of the classification model. It helps us to understand and conclude about the robustness of the classification model. "
   ]
  },
  {
   "cell_type": "code",
   "execution_count": 70,
   "id": "74ad4e73",
   "metadata": {},
   "outputs": [
    {
     "data": {
      "image/png": "[encoded data removed]",
      "text/plain": [
       "<Figure size 1000x600 with 1 Axes>"
      ]
     },
     "metadata": {},
     "output_type": "display_data"
    }
   ],
   "source": [
    "\n",
    "\n",
    "def capcurve(y_values, y_preds_proba):\n",
    "    num_pos_obs = np.sum(y_values)\n",
    "    num_count = len(y_values)\n",
    "    rate_pos_obs = float(num_pos_obs) / float(num_count)\n",
    "    ideal = pd.DataFrame({'x':[0,rate_pos_obs,1],'y':[0,1,1]})\n",
    "    xx = np.arange(num_count) / float(num_count - 1)\n",
    "    \n",
    "    y_cap = np.c_[y_values,y_preds_proba]\n",
    "    y_cap_df_s = pd.DataFrame(data=y_cap)\n",
    "    y_cap_df_s = y_cap_df_s.sort_values([1], ascending=False).reset_index(level = y_cap_df_s.index.names, drop=True)\n",
    "    \n",
    "    #print(y_cap_df_s.head(20))\n",
    "    \n",
    "    yy = np.cumsum(y_cap_df_s[0]) / float(num_pos_obs)\n",
    "    yy = np.append([0], yy[0:num_count-1]) #add the first curve point (0,0) : for xx=0 we have yy=0\n",
    "    \n",
    "    percent = 0.3\n",
    "    row_index = int(np.trunc(num_count * percent))\n",
    "    \n",
    "    val_y1 = yy[row_index]\n",
    "    val_y2 = yy[row_index+1]\n",
    "    if val_y1 == val_y2:\n",
    "        val = val_y1*1.0\n",
    "    else:\n",
    "        val_x1 = xx[row_index]\n",
    "        val_x2 = xx[row_index+1]\n",
    "        val = val_y1 + ((val_x2 - percent)/(val_x2 - val_x1))*(val_y2 - val_y1)\n",
    "    \n",
    "    sigma_ideal = 1 * xx[num_pos_obs - 1 ] / 2 + (xx[num_count - 1] - xx[num_pos_obs]) * 1\n",
    "    sigma_model = integrate.simps(yy,xx)\n",
    "    sigma_random = integrate.simps(xx,xx)\n",
    "    \n",
    "    ar_value = (sigma_model - sigma_random) / (sigma_ideal - sigma_random)\n",
    "    \n",
    "    fig = plt.figure(figsize=(10, 6))\n",
    "    ax = fig.subplots(nrows = 1, ncols = 1)\n",
    "\n",
    "    \n",
    "    ax.plot(ideal['x'],ideal['y'], color='grey', label='Perfect Model')\n",
    "    ax.plot(xx,yy, color='red', label='Revised Neural Network Model')\n",
    "    ax.plot(xx,xx, color='blue', label='Random Model')\n",
    "    ax.plot([percent, percent], [0.0, val], color='green', linestyle='--', linewidth=1)\n",
    "    ax.plot([0, percent], [val, val], color='green', linestyle='--', linewidth=1, label=str(val*100)+'% of positive obs at '+str(percent*100)+'%')\n",
    "    \n",
    "    plt.xlim(0, 1.02)\n",
    "    plt.ylim(0, 1.25)\n",
    "    plt.title(\"CAP Curve - a_r value =\"+str(ar_value))\n",
    "    plt.xlabel('% of the data')\n",
    "    plt.ylabel('% of positive obs')\n",
    "    plt.legend()\n",
    "    plt.show()\n",
    "\n",
    "    \n",
    "# Let's store the pred probability for use later when we call the CAP function\n",
    "revised_y_pred_proba = revised_nn_model.predict_proba(X=revised_X_test)\n",
    "\n",
    "# Let's cal lthe cap curve function. What does this is pass the y_test (which contains our target classification\n",
    "# as well as the predicted probabilities. The intention is to chart our CAP and see what is the optimal approach to \n",
    "# acting on our scored transaction list \n",
    "capcurve(y_test,revised_y_pred_proba[:,1])"
   ]
  },
  {
   "cell_type": "markdown",
   "id": "5e0e1b6a",
   "metadata": {},
   "source": [
    "The CAP curve of the revised neural network tells us that even if we only investigate 50% of the scored transaction list, we will be able to detect almost 100% of all fraudulent cases."
   ]
  },
  {
   "cell_type": "code",
   "execution_count": 71,
   "id": "757f4714",
   "metadata": {},
   "outputs": [],
   "source": [
    "# Let's create our white list. This white list will be the list of transactions that we will spend resources to investigate\n",
    "# as they are the most probable fraud cases based on our revised neural network model\n",
    "\n",
    "save_whitelist_df = revised_X_test.copy() # Let's create a dataframe of the test dataset\n",
    "save_whitelist_df['y_pred_proba'] = revised_y_pred_proba[:,1] # store the probability to be a fraud case\n",
    "save_whitelist_df['y_pred'] = y_pred_nn # add the predictions of our revised neural network\n",
    "save_whitelist_df = save_whitelist_df.sort_values('y_pred_proba',ascending=False) # sort with highest to lowest probability"
   ]
  },
  {
   "cell_type": "code",
   "execution_count": 72,
   "id": "0cd7d6fc",
   "metadata": {},
   "outputs": [
    {
     "name": "stdout",
     "output_type": "stream",
     "text": [
      "Our cutoff value is  83588\n",
      "We predict  81726  fraud cases out of  170589  transactions.\n"
     ]
    },
    {
     "data": {
      "text/html": [
       "<div>\n",
       "<style scoped>\n",
       "    .dataframe tbody tr th:only-of-type {\n",
       "        vertical-align: middle;\n",
       "    }\n",
       "\n",
       "    .dataframe tbody tr th {\n",
       "        vertical-align: top;\n",
       "    }\n",
       "\n",
       "    .dataframe thead th {\n",
       "        text-align: right;\n",
       "    }\n",
       "</style>\n",
       "<table border=\"1\" class=\"dataframe\">\n",
       "  <thead>\n",
       "    <tr style=\"text-align: right;\">\n",
       "      <th></th>\n",
       "      <th>V1</th>\n",
       "      <th>V3</th>\n",
       "      <th>V4</th>\n",
       "      <th>V6</th>\n",
       "      <th>V7</th>\n",
       "      <th>V9</th>\n",
       "      <th>V10</th>\n",
       "      <th>V11</th>\n",
       "      <th>V12</th>\n",
       "      <th>V13</th>\n",
       "      <th>V14</th>\n",
       "      <th>V15</th>\n",
       "      <th>V16</th>\n",
       "      <th>V17</th>\n",
       "      <th>V18</th>\n",
       "      <th>V21</th>\n",
       "      <th>y_pred_proba</th>\n",
       "      <th>y_pred</th>\n",
       "    </tr>\n",
       "  </thead>\n",
       "  <tbody>\n",
       "    <tr>\n",
       "      <th>541427</th>\n",
       "      <td>-16.463155</td>\n",
       "      <td>-17.850317</td>\n",
       "      <td>10.836184</td>\n",
       "      <td>-0.228555</td>\n",
       "      <td>-21.970736</td>\n",
       "      <td>-7.938872</td>\n",
       "      <td>-15.302678</td>\n",
       "      <td>5.234537</td>\n",
       "      <td>-13.229251</td>\n",
       "      <td>0.038903</td>\n",
       "      <td>-7.076804</td>\n",
       "      <td>-0.971426</td>\n",
       "      <td>-8.535293</td>\n",
       "      <td>-15.151035</td>\n",
       "      <td>-5.698711</td>\n",
       "      <td>-4.083018</td>\n",
       "      <td>1.000000</td>\n",
       "      <td>1</td>\n",
       "    </tr>\n",
       "    <tr>\n",
       "      <th>300572</th>\n",
       "      <td>-0.695058</td>\n",
       "      <td>-7.615327</td>\n",
       "      <td>7.166106</td>\n",
       "      <td>-2.445663</td>\n",
       "      <td>-2.762596</td>\n",
       "      <td>-3.992676</td>\n",
       "      <td>-5.006493</td>\n",
       "      <td>3.972826</td>\n",
       "      <td>-5.777562</td>\n",
       "      <td>0.401435</td>\n",
       "      <td>-11.318441</td>\n",
       "      <td>0.487404</td>\n",
       "      <td>-1.747486</td>\n",
       "      <td>-1.542053</td>\n",
       "      <td>0.228358</td>\n",
       "      <td>0.444981</td>\n",
       "      <td>1.000000</td>\n",
       "      <td>1</td>\n",
       "    </tr>\n",
       "    <tr>\n",
       "      <th>290633</th>\n",
       "      <td>-21.744940</td>\n",
       "      <td>-22.851081</td>\n",
       "      <td>8.164585</td>\n",
       "      <td>-0.174861</td>\n",
       "      <td>-28.170050</td>\n",
       "      <td>-9.366372</td>\n",
       "      <td>-20.499065</td>\n",
       "      <td>4.790801</td>\n",
       "      <td>-12.093282</td>\n",
       "      <td>-1.406350</td>\n",
       "      <td>-4.620895</td>\n",
       "      <td>-2.780488</td>\n",
       "      <td>-8.814266</td>\n",
       "      <td>-15.378852</td>\n",
       "      <td>-6.584593</td>\n",
       "      <td>-8.915521</td>\n",
       "      <td>1.000000</td>\n",
       "      <td>1</td>\n",
       "    </tr>\n",
       "    <tr>\n",
       "      <th>554439</th>\n",
       "      <td>-17.449663</td>\n",
       "      <td>-24.186868</td>\n",
       "      <td>11.806109</td>\n",
       "      <td>-2.577802</td>\n",
       "      <td>-17.644779</td>\n",
       "      <td>-6.242896</td>\n",
       "      <td>-12.833477</td>\n",
       "      <td>9.446747</td>\n",
       "      <td>-13.553048</td>\n",
       "      <td>0.958722</td>\n",
       "      <td>-13.036728</td>\n",
       "      <td>-0.425874</td>\n",
       "      <td>-7.655989</td>\n",
       "      <td>-11.490552</td>\n",
       "      <td>-4.722023</td>\n",
       "      <td>-2.328290</td>\n",
       "      <td>1.000000</td>\n",
       "      <td>1</td>\n",
       "    </tr>\n",
       "    <tr>\n",
       "      <th>524313</th>\n",
       "      <td>0.613198</td>\n",
       "      <td>-5.859876</td>\n",
       "      <td>5.902186</td>\n",
       "      <td>-1.458054</td>\n",
       "      <td>-2.617201</td>\n",
       "      <td>-3.382391</td>\n",
       "      <td>-4.701175</td>\n",
       "      <td>4.858671</td>\n",
       "      <td>-5.174651</td>\n",
       "      <td>0.469166</td>\n",
       "      <td>-10.437336</td>\n",
       "      <td>-1.291417</td>\n",
       "      <td>-2.119709</td>\n",
       "      <td>-5.059790</td>\n",
       "      <td>-1.027142</td>\n",
       "      <td>0.350467</td>\n",
       "      <td>1.000000</td>\n",
       "      <td>1</td>\n",
       "    </tr>\n",
       "  </tbody>\n",
       "</table>\n",
       "</div>"
      ],
      "text/plain": [
       "               V1         V3        V4        V6         V7        V9  \\\n",
       "541427 -16.463155 -17.850317 10.836184 -0.228555 -21.970736 -7.938872   \n",
       "300572  -0.695058  -7.615327  7.166106 -2.445663  -2.762596 -3.992676   \n",
       "290633 -21.744940 -22.851081  8.164585 -0.174861 -28.170050 -9.366372   \n",
       "554439 -17.449663 -24.186868 11.806109 -2.577802 -17.644779 -6.242896   \n",
       "524313   0.613198  -5.859876  5.902186 -1.458054  -2.617201 -3.382391   \n",
       "\n",
       "              V10      V11        V12       V13        V14       V15  \\\n",
       "541427 -15.302678 5.234537 -13.229251  0.038903  -7.076804 -0.971426   \n",
       "300572  -5.006493 3.972826  -5.777562  0.401435 -11.318441  0.487404   \n",
       "290633 -20.499065 4.790801 -12.093282 -1.406350  -4.620895 -2.780488   \n",
       "554439 -12.833477 9.446747 -13.553048  0.958722 -13.036728 -0.425874   \n",
       "524313  -4.701175 4.858671  -5.174651  0.469166 -10.437336 -1.291417   \n",
       "\n",
       "             V16        V17       V18       V21  y_pred_proba  y_pred  \n",
       "541427 -8.535293 -15.151035 -5.698711 -4.083018      1.000000       1  \n",
       "300572 -1.747486  -1.542053  0.228358  0.444981      1.000000       1  \n",
       "290633 -8.814266 -15.378852 -6.584593 -8.915521      1.000000       1  \n",
       "554439 -7.655989 -11.490552 -4.722023 -2.328290      1.000000       1  \n",
       "524313 -2.119709  -5.059790 -1.027142  0.350467      1.000000       1  "
      ]
     },
     "execution_count": 72,
     "metadata": {},
     "output_type": "execute_result"
    }
   ],
   "source": [
    "# Let's get our cut off and filter to the final list and save to a CSV File\n",
    "\n",
    "percentage = .49 # Let's use 49% since based on the chart we already hit the optimal cutoff before 50%\n",
    "cutoff = int(save_whitelist_df.shape[0]*percentage) # will get the absolute count of 49% of total rows\n",
    "print(\"Our cutoff value is \", cutoff)\n",
    "save_whitelist_df = save_whitelist_df[0:cutoff] # we filter until the cutoff\n",
    "save_whitelist_df.to_csv(\"fraud_revised_nn.csv\") # Filter only to the predcted and save our CSV file\n",
    "print(\"We predict \",save_whitelist_df['y_pred'].sum(), \" fraud cases out of \", revised_X_test.shape[0], \" transactions.\")\n",
    "save_whitelist_df.head()"
   ]
  },
  {
   "cell_type": "markdown",
   "id": "b6aafffb",
   "metadata": {},
   "source": [
    "## References:\n",
    "\n",
    "Link to Kaggle Credit Card Fraud Detection dataset: https://www.kaggle.com/datasets/mlg-ulb/creditcardfraud\n",
    "\n",
    "#### Acknowledgements (taken from Kaggle)\n",
    "\n",
    "The dataset has been collected and analysed during a research collaboration of Worldline and the Machine Learning Group (http://mlg.ulb.ac.be) of ULB (Université Libre de Bruxelles) on big data mining and fraud detection.\n",
    "More details on current and past projects on related topics are available on https://www.researchgate.net/project/Fraud-detection-5 and the page of the DefeatFraud project\n",
    "\n",
    "Andrea Dal Pozzolo, Olivier Caelen, Reid A. Johnson and Gianluca Bontempi. Calibrating Probability with Undersampling for Unbalanced Classification. In Symposium on Computational Intelligence and Data Mining (CIDM), IEEE, 2015\n",
    "\n",
    "Dal Pozzolo, Andrea; Caelen, Olivier; Le Borgne, Yann-Ael; Waterschoot, Serge; Bontempi, Gianluca. Learned lessons in credit card fraud detection from a practitioner perspective, Expert systems with applications,41,10,4915-4928,2014, Pergamon\n",
    "\n",
    "Dal Pozzolo, Andrea; Boracchi, Giacomo; Caelen, Olivier; Alippi, Cesare; Bontempi, Gianluca. Credit card fraud detection: a realistic modeling and a novel learning strategy, IEEE transactions on neural networks and learning systems,29,8,3784-3797,2018,IEEE\n",
    "\n",
    "Dal Pozzolo, Andrea Adaptive Machine learning for credit card fraud detection ULB MLG PhD thesis (supervised by G. Bontempi)\n",
    "\n",
    "Carcillo, Fabrizio; Dal Pozzolo, Andrea; Le Borgne, Yann-Aël; Caelen, Olivier; Mazzer, Yannis; Bontempi, Gianluca. Scarff: a scalable framework for streaming credit card fraud detection with Spark, Information fusion,41, 182-194,2018,Elsevier\n",
    "\n",
    "Carcillo, Fabrizio; Le Borgne, Yann-Aël; Caelen, Olivier; Bontempi, Gianluca. Streaming active learning strategies for real-life credit card fraud detection: assessment and visualization, International Journal of Data Science and Analytics, 5,4,285-300,2018,Springer International Publishing\n",
    "\n",
    "Bertrand Lebichot, Yann-Aël Le Borgne, Liyun He, Frederic Oblé, Gianluca Bontempi Deep-Learning Domain Adaptation Techniques for Credit Cards Fraud Detection, INNSBDDL 2019: Recent Advances in Big Data and Deep Learning, pp 78-88, 2019\n",
    "\n",
    "Fabrizio Carcillo, Yann-Aël Le Borgne, Olivier Caelen, Frederic Oblé, Gianluca Bontempi Combining Unsupervised and Supervised Learning in Credit Card Fraud Detection Information Sciences, 2019\n",
    "\n",
    "Yann-Aël Le Borgne, Gianluca Bontempi Reproducible machine Learning for Credit Card Fraud Detection - Practical Handbook\n",
    "\n",
    "Bertrand Lebichot, Gianmarco Paldino, Wissam Siblini, Liyun He, Frederic Oblé, Gianluca Bontempi Incremental learning strategies for credit cards fraud detection, IInternational Journal of Data Science and Analytics"
   ]
  }
 ],
 "metadata": {
  "kernelspec": {
   "display_name": "Python 3 (ipykernel)",
   "language": "python",
   "name": "python3"
  },
  "language_info": {
   "codemirror_mode": {
    "name": "ipython",
    "version": 3
   },
   "file_extension": ".py",
   "mimetype": "text/x-python",
   "name": "python",
   "nbconvert_exporter": "python",
   "pygments_lexer": "ipython3",
   "version": "3.9.13"
  }
 },
 "nbformat": 4,
 "nbformat_minor": 5
}
